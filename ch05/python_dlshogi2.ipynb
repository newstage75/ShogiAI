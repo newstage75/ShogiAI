{
  "nbformat": 4,
  "nbformat_minor": 0,
  "metadata": {
    "colab": {
      "name": "python-dlshogi2.ipynb",
      "provenance": [],
      "authorship_tag": "ABX9TyM8YZD5djTCJcYzutnq2Nat",
      "include_colab_link": true
    },
    "kernelspec": {
      "name": "python3",
      "display_name": "Python 3"
    },
    "language_info": {
      "name": "python"
    },
    "accelerator": "GPU"
  },
  "cells": [
    {
      "cell_type": "markdown",
      "metadata": {
        "id": "view-in-github",
        "colab_type": "text"
      },
      "source": [
        "<a href=\"https://colab.research.google.com/github/newstage75/ShogiAI/blob/main/ch05/python_dlshogi2.ipynb\" target=\"_parent\"><img src=\"https://colab.research.google.com/assets/colab-badge.svg\" alt=\"Open In Colab\"/></a>"
      ]
    },
    {
      "cell_type": "markdown",
      "source": [
        "# Pythonで将棋AIを作る\n",
        "\n",
        "## ランタイムのタイプの確認\n",
        "「ランタイム」－「ランタイムのタイプを変更」から、「ハードウェア アクセラレータ」が「GPU」になっていることを確認します。なっていない場合、「GPU」に変更します。"
      ],
      "metadata": {
        "id": "U_wp5dIBkbfZ"
      }
    },
    {
      "cell_type": "markdown",
      "source": [
        "## CUDAバージョンの確認"
      ],
      "metadata": {
        "id": "wt6ywtQ-kglh"
      }
    },
    {
      "cell_type": "code",
      "execution_count": null,
      "metadata": {
        "id": "yHX6cf9dkaAF"
      },
      "outputs": [],
      "source": [
        ""
      ]
    }
  ]
}