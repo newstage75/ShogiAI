{
  "nbformat": 4,
  "nbformat_minor": 0,
  "metadata": {
    "colab": {
      "name": "python-dlshogi2.ipynb",
      "provenance": [],
      "authorship_tag": "ABX9TyOsqgUM5ougoxMO3h4aBXH5",
      "include_colab_link": true
    },
    "kernelspec": {
      "name": "python3",
      "display_name": "Python 3"
    },
    "language_info": {
      "name": "python"
    },
    "accelerator": "GPU"
  },
  "cells": [
    {
      "cell_type": "markdown",
      "metadata": {
        "id": "view-in-github",
        "colab_type": "text"
      },
      "source": [
        "<a href=\"https://colab.research.google.com/github/newstage75/ShogiAI/blob/main/ch05/python_dlshogi2.ipynb\" target=\"_parent\"><img src=\"https://colab.research.google.com/assets/colab-badge.svg\" alt=\"Open In Colab\"/></a>"
      ]
    },
    {
      "cell_type": "markdown",
      "source": [
        "# Pythonで将棋AIを作る\n",
        "\n",
        "## ランタイムのタイプの確認\n",
        "「ランタイム」－「ランタイムのタイプを変更」から、「ハードウェア アクセラレータ」が「GPU」になっていることを確認します。なっていない場合、「GPU」に変更します。"
      ],
      "metadata": {
        "id": "U_wp5dIBkbfZ"
      }
    },
    {
      "cell_type": "markdown",
      "source": [
        "## CUDAバージョンの確認"
      ],
      "metadata": {
        "id": "wt6ywtQ-kglh"
      }
    },
    {
      "cell_type": "code",
      "execution_count": 1,
      "metadata": {
        "colab": {
          "base_uri": "https://localhost:8080/"
        },
        "id": "yHX6cf9dkaAF",
        "outputId": "3c747143-b804-4790-85c1-d09b3bf59586"
      },
      "outputs": [
        {
          "output_type": "stream",
          "name": "stdout",
          "text": [
            "Sat Jun 11 02:24:36 2022       \n",
            "+-----------------------------------------------------------------------------+\n",
            "| NVIDIA-SMI 460.32.03    Driver Version: 460.32.03    CUDA Version: 11.2     |\n",
            "|-------------------------------+----------------------+----------------------+\n",
            "| GPU  Name        Persistence-M| Bus-Id        Disp.A | Volatile Uncorr. ECC |\n",
            "| Fan  Temp  Perf  Pwr:Usage/Cap|         Memory-Usage | GPU-Util  Compute M. |\n",
            "|                               |                      |               MIG M. |\n",
            "|===============================+======================+======================|\n",
            "|   0  Tesla T4            Off  | 00000000:00:04.0 Off |                    0 |\n",
            "| N/A   41C    P8     9W /  70W |      0MiB / 15109MiB |      0%      Default |\n",
            "|                               |                      |                  N/A |\n",
            "+-------------------------------+----------------------+----------------------+\n",
            "                                                                               \n",
            "+-----------------------------------------------------------------------------+\n",
            "| Processes:                                                                  |\n",
            "|  GPU   GI   CI        PID   Type   Process name                  GPU Memory |\n",
            "|        ID   ID                                                   Usage      |\n",
            "|=============================================================================|\n",
            "|  No running processes found                                                 |\n",
            "+-----------------------------------------------------------------------------+\n"
          ]
        }
      ],
      "source": [
        "!nvidia-smi"
      ]
    },
    {
      "cell_type": "markdown",
      "source": [
        "## 将棋ライブラリcshogi"
      ],
      "metadata": {
        "id": "Ieqtdc4kk9qj"
      }
    },
    {
      "cell_type": "code",
      "source": [
        "#インストール\n",
        "!pip install cshogi"
      ],
      "metadata": {
        "colab": {
          "base_uri": "https://localhost:8080/"
        },
        "id": "ng75HtyHk3dD",
        "outputId": "67069e48-7896-42a5-a248-4c3c08bf1782"
      },
      "execution_count": 2,
      "outputs": [
        {
          "output_type": "stream",
          "name": "stdout",
          "text": [
            "Looking in indexes: https://pypi.org/simple, https://us-python.pkg.dev/colab-wheels/public/simple/\n",
            "Collecting cshogi\n",
            "  Downloading cshogi-0.3.9-cp37-cp37m-manylinux_2_12_x86_64.manylinux2010_x86_64.whl (4.6 MB)\n",
            "\u001b[K     |████████████████████████████████| 4.6 MB 4.9 MB/s \n",
            "\u001b[?25hInstalling collected packages: cshogi\n",
            "Successfully installed cshogi-0.3.9\n"
          ]
        }
      ]
    },
    {
      "cell_type": "code",
      "source": [
        "#パッケージのインポート\n",
        "import cshogi"
      ],
      "metadata": {
        "id": "WpfAKpLYlCZS"
      },
      "execution_count": 3,
      "outputs": []
    },
    {
      "cell_type": "code",
      "source": [
        "#盤面作成\n",
        "board = cshogi.Board()"
      ],
      "metadata": {
        "id": "I7HatKzWlK4S"
      },
      "execution_count": 4,
      "outputs": []
    },
    {
      "cell_type": "code",
      "source": [
        "board"
      ],
      "metadata": {
        "colab": {
          "base_uri": "https://localhost:8080/",
          "height": 212
        },
        "id": "M4qd-StblPcV",
        "outputId": "3d200217-0441-4aab-fd5a-53dc845e10eb"
      },
      "execution_count": 5,
      "outputs": [
        {
          "output_type": "execute_result",
          "data": {
            "text/plain": [
              "'  9  8  7  6  5  4  3  2  1\n",
              "P1-KY-KE-GI-KI-OU-KI-GI-KE-KY\n",
              "P2 * -HI *  *  *  *  * -KA * \n",
              "P3-FU-FU-FU-FU-FU-FU-FU-FU-FU\n",
              "P4 *  *  *  *  *  *  *  *  * \n",
              "P5 *  *  *  *  *  *  *  *  * \n",
              "P6 *  *  *  *  *  *  *  *  * \n",
              "P7+FU+FU+FU+FU+FU+FU+FU+FU+FU\n",
              "P8 * +KA *  *  *  *  * +HI * \n",
              "P9+KY+KE+GI+KI+OU+KI+GI+KE+KY\n",
              "+"
            ],
            "image/svg+xml": "<svg height=\"192.0\" version=\"1.1\" viewBox=\"0 0 230 192\" width=\"230.0\" xmlns=\"http://www.w3.org/2000/svg\" xmlns:xlink=\"http://www.w3.org/1999/xlink\"><defs><g id=\"black-pawn\"><text font-family=\"serif\" font-size=\"17\" text-anchor=\"middle\" x=\"10.5\" y=\"16.5\">&#27497;</text></g><g id=\"black-lance\"><text font-family=\"serif\" font-size=\"17\" text-anchor=\"middle\" x=\"10.5\" y=\"16.5\">&#39321;</text></g><g id=\"black-knight\"><text font-family=\"serif\" font-size=\"17\" text-anchor=\"middle\" x=\"10.5\" y=\"16.5\">&#26690;</text></g><g id=\"black-silver\"><text font-family=\"serif\" font-size=\"17\" text-anchor=\"middle\" x=\"10.5\" y=\"16.5\">&#37504;</text></g><g id=\"black-gold\"><text font-family=\"serif\" font-size=\"17\" text-anchor=\"middle\" x=\"10.5\" y=\"16.5\">&#37329;</text></g><g id=\"black-bishop\"><text font-family=\"serif\" font-size=\"17\" text-anchor=\"middle\" x=\"10.5\" y=\"16.5\">&#35282;</text></g><g id=\"black-rook\"><text font-family=\"serif\" font-size=\"17\" text-anchor=\"middle\" x=\"10.5\" y=\"16.5\">&#39131;</text></g><g id=\"black-king\"><text font-family=\"serif\" font-size=\"17\" text-anchor=\"middle\" x=\"10.5\" y=\"16.5\">&#29579;</text></g><g id=\"black-pro-pawn\"><text font-family=\"serif\" font-size=\"17\" text-anchor=\"middle\" x=\"10.5\" y=\"16.5\">&#12392;</text></g><g id=\"black-pro-lance\" transform=\"scale(1.0, 0.5)\"><text font-family=\"serif\" font-size=\"17\" text-anchor=\"middle\" x=\"10.5\" y=\"18\">&#25104;</text><text font-family=\"serif\" font-size=\"17\" text-anchor=\"middle\" x=\"10.5\" y=\"34\">&#39321;</text></g><g id=\"black-pro-knight\" transform=\"scale(1.0, 0.5)\"><text font-family=\"serif\" font-size=\"17\" text-anchor=\"middle\" x=\"10.5\" y=\"18\">&#25104;</text><text font-family=\"serif\" font-size=\"17\" text-anchor=\"middle\" x=\"10.5\" y=\"34\">&#26690;</text></g><g id=\"black-pro-silver\" transform=\"scale(1.0, 0.5)\"><text font-family=\"serif\" font-size=\"17\" text-anchor=\"middle\" x=\"10.5\" y=\"18\">&#25104;</text><text font-family=\"serif\" font-size=\"17\" text-anchor=\"middle\" x=\"10.5\" y=\"34\">&#37504;</text></g><g id=\"black-horse\"><text font-family=\"serif\" font-size=\"17\" text-anchor=\"middle\" x=\"10.5\" y=\"16.5\">&#39340;</text></g><g id=\"black-dragon\"><text font-family=\"serif\" font-size=\"17\" text-anchor=\"middle\" x=\"10.5\" y=\"16.5\">&#40845;</text></g><g id=\"white-pawn\" transform=\"rotate(180)\"><text font-family=\"serif\" font-size=\"17\" text-anchor=\"middle\" x=\"-10.5\" y=\"-3.5\">&#27497;</text></g><g id=\"white-lance\" transform=\"rotate(180)\"><text font-family=\"serif\" font-size=\"17\" text-anchor=\"middle\" x=\"-10.5\" y=\"-3.5\">&#39321;</text></g><g id=\"white-knight\" transform=\"rotate(180)\"><text font-family=\"serif\" font-size=\"17\" text-anchor=\"middle\" x=\"-10.5\" y=\"-3.5\">&#26690;</text></g><g id=\"white-silver\" transform=\"rotate(180)\"><text font-family=\"serif\" font-size=\"17\" text-anchor=\"middle\" x=\"-10.5\" y=\"-3.5\">&#37504;</text></g><g id=\"white-gold\" transform=\"rotate(180)\"><text font-family=\"serif\" font-size=\"17\" text-anchor=\"middle\" x=\"-10.5\" y=\"-3.5\">&#37329;</text></g><g id=\"white-bishop\" transform=\"rotate(180)\"><text font-family=\"serif\" font-size=\"17\" text-anchor=\"middle\" x=\"-10.5\" y=\"-3.5\">&#35282;</text></g><g id=\"white-rook\" transform=\"rotate(180)\"><text font-family=\"serif\" font-size=\"17\" text-anchor=\"middle\" x=\"-10.5\" y=\"-3.5\">&#39131;</text></g><g id=\"white-king\" transform=\"rotate(180)\"><text font-family=\"serif\" font-size=\"17\" text-anchor=\"middle\" x=\"-10.5\" y=\"-3.5\">&#29579;</text></g><g id=\"white-pro-pawn\" transform=\"rotate(180)\"><text font-family=\"serif\" font-size=\"17\" text-anchor=\"middle\" x=\"-10.5\" y=\"-3.5\">&#12392;</text></g><g id=\"white-pro-lance\" transform=\"scale(1.0, 0.5) rotate(180)\"><text font-family=\"serif\" font-size=\"17\" text-anchor=\"middle\" x=\"-10.5\" y=\"-22\">&#25104;</text><text font-family=\"serif\" font-size=\"17\" text-anchor=\"middle\" x=\"-10.5\" y=\"-6\">&#39321;</text></g><g id=\"white-pro-knight\" transform=\"scale(1.0, 0.5) rotate(180)\"><text font-family=\"serif\" font-size=\"17\" text-anchor=\"middle\" x=\"-10.5\" y=\"-22\">&#25104;</text><text font-family=\"serif\" font-size=\"17\" text-anchor=\"middle\" x=\"-10.5\" y=\"-6\">&#26690;</text></g><g id=\"white-pro-silver\" transform=\"scale(1.0, 0.5) rotate(180)\"><text font-family=\"serif\" font-size=\"17\" text-anchor=\"middle\" x=\"-10.5\" y=\"-22\">&#25104;</text><text font-family=\"serif\" font-size=\"17\" text-anchor=\"middle\" x=\"-10.5\" y=\"-6\">&#37504;</text></g><g id=\"white-horse\" transform=\"rotate(180)\"><text font-family=\"serif\" font-size=\"17\" text-anchor=\"middle\" x=\"-10.5\" y=\"-3.5\">&#39340;</text></g><g id=\"white-dragon\" transform=\"rotate(180)\"><text font-family=\"serif\" font-size=\"17\" text-anchor=\"middle\" x=\"-10.5\" y=\"-3.5\">&#40845;</text></g></defs><g stroke=\"black\"><rect fill=\"none\" height=\"181\" stroke-width=\"1.5\" width=\"181\" x=\"20\" y=\"10\" /><line stroke-width=\"1.0\" x1=\"20.5\" x2=\"200.5\" y1=\"30.5\" y2=\"30.5\" /><line stroke-width=\"1.0\" x1=\"20.5\" x2=\"200.5\" y1=\"50.5\" y2=\"50.5\" /><line stroke-width=\"1.0\" x1=\"20.5\" x2=\"200.5\" y1=\"70.5\" y2=\"70.5\" /><line stroke-width=\"1.0\" x1=\"20.5\" x2=\"200.5\" y1=\"90.5\" y2=\"90.5\" /><line stroke-width=\"1.0\" x1=\"20.5\" x2=\"200.5\" y1=\"110.5\" y2=\"110.5\" /><line stroke-width=\"1.0\" x1=\"20.5\" x2=\"200.5\" y1=\"130.5\" y2=\"130.5\" /><line stroke-width=\"1.0\" x1=\"20.5\" x2=\"200.5\" y1=\"150.5\" y2=\"150.5\" /><line stroke-width=\"1.0\" x1=\"20.5\" x2=\"200.5\" y1=\"170.5\" y2=\"170.5\" /><line stroke-width=\"1.0\" x1=\"40.5\" x2=\"40.5\" y1=\"10.5\" y2=\"190.5\" /><line stroke-width=\"1.0\" x1=\"60.5\" x2=\"60.5\" y1=\"10.5\" y2=\"190.5\" /><line stroke-width=\"1.0\" x1=\"80.5\" x2=\"80.5\" y1=\"10.5\" y2=\"190.5\" /><line stroke-width=\"1.0\" x1=\"100.5\" x2=\"100.5\" y1=\"10.5\" y2=\"190.5\" /><line stroke-width=\"1.0\" x1=\"120.5\" x2=\"120.5\" y1=\"10.5\" y2=\"190.5\" /><line stroke-width=\"1.0\" x1=\"140.5\" x2=\"140.5\" y1=\"10.5\" y2=\"190.5\" /><line stroke-width=\"1.0\" x1=\"160.5\" x2=\"160.5\" y1=\"10.5\" y2=\"190.5\" /><line stroke-width=\"1.0\" x1=\"180.5\" x2=\"180.5\" y1=\"10.5\" y2=\"190.5\" /></g><g><text font-family=\"serif\" font-size=\"9\" text-anchor=\"middle\" x=\"30.5\" y=\"8\">9</text><text font-family=\"serif\" font-size=\"9\" text-anchor=\"middle\" x=\"50.5\" y=\"8\">8</text><text font-family=\"serif\" font-size=\"9\" text-anchor=\"middle\" x=\"70.5\" y=\"8\">7</text><text font-family=\"serif\" font-size=\"9\" text-anchor=\"middle\" x=\"90.5\" y=\"8\">6</text><text font-family=\"serif\" font-size=\"9\" text-anchor=\"middle\" x=\"110.5\" y=\"8\">5</text><text font-family=\"serif\" font-size=\"9\" text-anchor=\"middle\" x=\"130.5\" y=\"8\">4</text><text font-family=\"serif\" font-size=\"9\" text-anchor=\"middle\" x=\"150.5\" y=\"8\">3</text><text font-family=\"serif\" font-size=\"9\" text-anchor=\"middle\" x=\"170.5\" y=\"8\">2</text><text font-family=\"serif\" font-size=\"9\" text-anchor=\"middle\" x=\"190.5\" y=\"8\">1</text><text font-family=\"serif\" font-size=\"9\" x=\"203.5\" y=\"23\">&#19968;</text><text font-family=\"serif\" font-size=\"9\" x=\"203.5\" y=\"43\">&#20108;</text><text font-family=\"serif\" font-size=\"9\" x=\"203.5\" y=\"63\">&#19977;</text><text font-family=\"serif\" font-size=\"9\" x=\"203.5\" y=\"83\">&#22235;</text><text font-family=\"serif\" font-size=\"9\" x=\"203.5\" y=\"103\">&#20116;</text><text font-family=\"serif\" font-size=\"9\" x=\"203.5\" y=\"123\">&#20845;</text><text font-family=\"serif\" font-size=\"9\" x=\"203.5\" y=\"143\">&#19971;</text><text font-family=\"serif\" font-size=\"9\" x=\"203.5\" y=\"163\">&#20843;</text><text font-family=\"serif\" font-size=\"9\" x=\"203.5\" y=\"183\">&#20061;</text></g><use x=\"180.5\" xlink:href=\"#white-lance\" y=\"10.5\" /><use x=\"180.5\" xlink:href=\"#white-pawn\" y=\"50.5\" /><use x=\"180.5\" xlink:href=\"#black-pawn\" y=\"130.5\" /><use x=\"180.5\" xlink:href=\"#black-lance\" y=\"170.5\" /><use x=\"160.5\" xlink:href=\"#white-knight\" y=\"10.5\" /><use x=\"160.5\" xlink:href=\"#white-bishop\" y=\"30.5\" /><use x=\"160.5\" xlink:href=\"#white-pawn\" y=\"50.5\" /><use x=\"160.5\" xlink:href=\"#black-pawn\" y=\"130.5\" /><use x=\"160.5\" xlink:href=\"#black-rook\" y=\"150.5\" /><use x=\"160.5\" xlink:href=\"#black-knight\" y=\"170.5\" /><use x=\"140.5\" xlink:href=\"#white-silver\" y=\"10.5\" /><use x=\"140.5\" xlink:href=\"#white-pawn\" y=\"50.5\" /><use x=\"140.5\" xlink:href=\"#black-pawn\" y=\"130.5\" /><use x=\"140.5\" xlink:href=\"#black-silver\" y=\"170.5\" /><use x=\"120.5\" xlink:href=\"#white-gold\" y=\"10.5\" /><use x=\"120.5\" xlink:href=\"#white-pawn\" y=\"50.5\" /><use x=\"120.5\" xlink:href=\"#black-pawn\" y=\"130.5\" /><use x=\"120.5\" xlink:href=\"#black-gold\" y=\"170.5\" /><use x=\"100.5\" xlink:href=\"#white-king\" y=\"10.5\" /><use x=\"100.5\" xlink:href=\"#white-pawn\" y=\"50.5\" /><use x=\"100.5\" xlink:href=\"#black-pawn\" y=\"130.5\" /><use x=\"100.5\" xlink:href=\"#black-king\" y=\"170.5\" /><use x=\"80.5\" xlink:href=\"#white-gold\" y=\"10.5\" /><use x=\"80.5\" xlink:href=\"#white-pawn\" y=\"50.5\" /><use x=\"80.5\" xlink:href=\"#black-pawn\" y=\"130.5\" /><use x=\"80.5\" xlink:href=\"#black-gold\" y=\"170.5\" /><use x=\"60.5\" xlink:href=\"#white-silver\" y=\"10.5\" /><use x=\"60.5\" xlink:href=\"#white-pawn\" y=\"50.5\" /><use x=\"60.5\" xlink:href=\"#black-pawn\" y=\"130.5\" /><use x=\"60.5\" xlink:href=\"#black-silver\" y=\"170.5\" /><use x=\"40.5\" xlink:href=\"#white-knight\" y=\"10.5\" /><use x=\"40.5\" xlink:href=\"#white-rook\" y=\"30.5\" /><use x=\"40.5\" xlink:href=\"#white-pawn\" y=\"50.5\" /><use x=\"40.5\" xlink:href=\"#black-pawn\" y=\"130.5\" /><use x=\"40.5\" xlink:href=\"#black-bishop\" y=\"150.5\" /><use x=\"40.5\" xlink:href=\"#black-knight\" y=\"170.5\" /><use x=\"20.5\" xlink:href=\"#white-lance\" y=\"10.5\" /><use x=\"20.5\" xlink:href=\"#white-pawn\" y=\"50.5\" /><use x=\"20.5\" xlink:href=\"#black-pawn\" y=\"130.5\" /><use x=\"20.5\" xlink:href=\"#black-lance\" y=\"170.5\" /><text font-family=\"serif\" font-size=\"14\" x=\"214\" y=\"176\">&#25163;</text><text font-family=\"serif\" font-size=\"14\" x=\"214\" y=\"162\">&#20808;</text><text font-family=\"serif\" font-size=\"14\" x=\"214\" y=\"148\">&#9751;</text><text font-family=\"serif\" font-size=\"14\" transform=\"rotate(180)\" x=\"-16\" y=\"-24\">&#25163;</text><text font-family=\"serif\" font-size=\"14\" transform=\"rotate(180)\" x=\"-16\" y=\"-38\">&#24460;</text><text font-family=\"serif\" font-size=\"14\" transform=\"rotate(180)\" x=\"-16\" y=\"-52\">&#9750;</text></svg>"
          },
          "metadata": {},
          "execution_count": 5
        }
      ]
    },
    {
      "cell_type": "code",
      "source": [
        "#合法手の表示\n",
        "for move in board.legal_moves:\n",
        "  print(cshogi.move_to_usi(move))"
      ],
      "metadata": {
        "colab": {
          "base_uri": "https://localhost:8080/"
        },
        "id": "zbd9Y-G5lQTX",
        "outputId": "00139fed-8cbc-4d29-e880-90f8cbe8eb58"
      },
      "execution_count": 6,
      "outputs": [
        {
          "output_type": "stream",
          "name": "stdout",
          "text": [
            "1g1f\n",
            "2g2f\n",
            "3g3f\n",
            "4g4f\n",
            "5g5f\n",
            "6g6f\n",
            "7g7f\n",
            "8g8f\n",
            "9g9f\n",
            "1i1h\n",
            "9i9h\n",
            "3i3h\n",
            "3i4h\n",
            "7i6h\n",
            "7i7h\n",
            "2h1h\n",
            "2h3h\n",
            "2h4h\n",
            "2h5h\n",
            "2h6h\n",
            "2h7h\n",
            "4i3h\n",
            "4i4h\n",
            "4i5h\n",
            "6i5h\n",
            "6i6h\n",
            "6i7h\n",
            "5i4h\n",
            "5i5h\n",
            "5i6h\n"
          ]
        }
      ]
    },
    {
      "cell_type": "code",
      "source": [
        "#手を指す\n",
        "#合法手生成の１番目の手を指す\n",
        "move = list(board.legal_moves)[0]\n",
        "board.push(move)\n",
        "board"
      ],
      "metadata": {
        "colab": {
          "base_uri": "https://localhost:8080/",
          "height": 212
        },
        "id": "werZPe0HltFM",
        "outputId": "d8196182-0857-4fa4-b794-cc9ccad86385"
      },
      "execution_count": 7,
      "outputs": [
        {
          "output_type": "execute_result",
          "data": {
            "text/plain": [
              "'  9  8  7  6  5  4  3  2  1\n",
              "P1-KY-KE-GI-KI-OU-KI-GI-KE-KY\n",
              "P2 * -HI *  *  *  *  * -KA * \n",
              "P3-FU-FU-FU-FU-FU-FU-FU-FU-FU\n",
              "P4 *  *  *  *  *  *  *  *  * \n",
              "P5 *  *  *  *  *  *  *  *  * \n",
              "P6 *  *  *  *  *  *  *  * +FU\n",
              "P7+FU+FU+FU+FU+FU+FU+FU+FU * \n",
              "P8 * +KA *  *  *  *  * +HI * \n",
              "P9+KY+KE+GI+KI+OU+KI+GI+KE+KY\n",
              "-"
            ],
            "image/svg+xml": "<svg height=\"192.0\" version=\"1.1\" viewBox=\"0 0 230 192\" width=\"230.0\" xmlns=\"http://www.w3.org/2000/svg\" xmlns:xlink=\"http://www.w3.org/1999/xlink\"><defs><g id=\"black-pawn\"><text font-family=\"serif\" font-size=\"17\" text-anchor=\"middle\" x=\"10.5\" y=\"16.5\">&#27497;</text></g><g id=\"black-lance\"><text font-family=\"serif\" font-size=\"17\" text-anchor=\"middle\" x=\"10.5\" y=\"16.5\">&#39321;</text></g><g id=\"black-knight\"><text font-family=\"serif\" font-size=\"17\" text-anchor=\"middle\" x=\"10.5\" y=\"16.5\">&#26690;</text></g><g id=\"black-silver\"><text font-family=\"serif\" font-size=\"17\" text-anchor=\"middle\" x=\"10.5\" y=\"16.5\">&#37504;</text></g><g id=\"black-gold\"><text font-family=\"serif\" font-size=\"17\" text-anchor=\"middle\" x=\"10.5\" y=\"16.5\">&#37329;</text></g><g id=\"black-bishop\"><text font-family=\"serif\" font-size=\"17\" text-anchor=\"middle\" x=\"10.5\" y=\"16.5\">&#35282;</text></g><g id=\"black-rook\"><text font-family=\"serif\" font-size=\"17\" text-anchor=\"middle\" x=\"10.5\" y=\"16.5\">&#39131;</text></g><g id=\"black-king\"><text font-family=\"serif\" font-size=\"17\" text-anchor=\"middle\" x=\"10.5\" y=\"16.5\">&#29579;</text></g><g id=\"black-pro-pawn\"><text font-family=\"serif\" font-size=\"17\" text-anchor=\"middle\" x=\"10.5\" y=\"16.5\">&#12392;</text></g><g id=\"black-pro-lance\" transform=\"scale(1.0, 0.5)\"><text font-family=\"serif\" font-size=\"17\" text-anchor=\"middle\" x=\"10.5\" y=\"18\">&#25104;</text><text font-family=\"serif\" font-size=\"17\" text-anchor=\"middle\" x=\"10.5\" y=\"34\">&#39321;</text></g><g id=\"black-pro-knight\" transform=\"scale(1.0, 0.5)\"><text font-family=\"serif\" font-size=\"17\" text-anchor=\"middle\" x=\"10.5\" y=\"18\">&#25104;</text><text font-family=\"serif\" font-size=\"17\" text-anchor=\"middle\" x=\"10.5\" y=\"34\">&#26690;</text></g><g id=\"black-pro-silver\" transform=\"scale(1.0, 0.5)\"><text font-family=\"serif\" font-size=\"17\" text-anchor=\"middle\" x=\"10.5\" y=\"18\">&#25104;</text><text font-family=\"serif\" font-size=\"17\" text-anchor=\"middle\" x=\"10.5\" y=\"34\">&#37504;</text></g><g id=\"black-horse\"><text font-family=\"serif\" font-size=\"17\" text-anchor=\"middle\" x=\"10.5\" y=\"16.5\">&#39340;</text></g><g id=\"black-dragon\"><text font-family=\"serif\" font-size=\"17\" text-anchor=\"middle\" x=\"10.5\" y=\"16.5\">&#40845;</text></g><g id=\"white-pawn\" transform=\"rotate(180)\"><text font-family=\"serif\" font-size=\"17\" text-anchor=\"middle\" x=\"-10.5\" y=\"-3.5\">&#27497;</text></g><g id=\"white-lance\" transform=\"rotate(180)\"><text font-family=\"serif\" font-size=\"17\" text-anchor=\"middle\" x=\"-10.5\" y=\"-3.5\">&#39321;</text></g><g id=\"white-knight\" transform=\"rotate(180)\"><text font-family=\"serif\" font-size=\"17\" text-anchor=\"middle\" x=\"-10.5\" y=\"-3.5\">&#26690;</text></g><g id=\"white-silver\" transform=\"rotate(180)\"><text font-family=\"serif\" font-size=\"17\" text-anchor=\"middle\" x=\"-10.5\" y=\"-3.5\">&#37504;</text></g><g id=\"white-gold\" transform=\"rotate(180)\"><text font-family=\"serif\" font-size=\"17\" text-anchor=\"middle\" x=\"-10.5\" y=\"-3.5\">&#37329;</text></g><g id=\"white-bishop\" transform=\"rotate(180)\"><text font-family=\"serif\" font-size=\"17\" text-anchor=\"middle\" x=\"-10.5\" y=\"-3.5\">&#35282;</text></g><g id=\"white-rook\" transform=\"rotate(180)\"><text font-family=\"serif\" font-size=\"17\" text-anchor=\"middle\" x=\"-10.5\" y=\"-3.5\">&#39131;</text></g><g id=\"white-king\" transform=\"rotate(180)\"><text font-family=\"serif\" font-size=\"17\" text-anchor=\"middle\" x=\"-10.5\" y=\"-3.5\">&#29579;</text></g><g id=\"white-pro-pawn\" transform=\"rotate(180)\"><text font-family=\"serif\" font-size=\"17\" text-anchor=\"middle\" x=\"-10.5\" y=\"-3.5\">&#12392;</text></g><g id=\"white-pro-lance\" transform=\"scale(1.0, 0.5) rotate(180)\"><text font-family=\"serif\" font-size=\"17\" text-anchor=\"middle\" x=\"-10.5\" y=\"-22\">&#25104;</text><text font-family=\"serif\" font-size=\"17\" text-anchor=\"middle\" x=\"-10.5\" y=\"-6\">&#39321;</text></g><g id=\"white-pro-knight\" transform=\"scale(1.0, 0.5) rotate(180)\"><text font-family=\"serif\" font-size=\"17\" text-anchor=\"middle\" x=\"-10.5\" y=\"-22\">&#25104;</text><text font-family=\"serif\" font-size=\"17\" text-anchor=\"middle\" x=\"-10.5\" y=\"-6\">&#26690;</text></g><g id=\"white-pro-silver\" transform=\"scale(1.0, 0.5) rotate(180)\"><text font-family=\"serif\" font-size=\"17\" text-anchor=\"middle\" x=\"-10.5\" y=\"-22\">&#25104;</text><text font-family=\"serif\" font-size=\"17\" text-anchor=\"middle\" x=\"-10.5\" y=\"-6\">&#37504;</text></g><g id=\"white-horse\" transform=\"rotate(180)\"><text font-family=\"serif\" font-size=\"17\" text-anchor=\"middle\" x=\"-10.5\" y=\"-3.5\">&#39340;</text></g><g id=\"white-dragon\" transform=\"rotate(180)\"><text font-family=\"serif\" font-size=\"17\" text-anchor=\"middle\" x=\"-10.5\" y=\"-3.5\">&#40845;</text></g></defs><rect fill=\"#f6b94d\" height=\"20\" width=\"20\" x=\"180.5\" y=\"110.5\" /><rect fill=\"#fdf0e3\" height=\"20\" width=\"20\" x=\"180.5\" y=\"130.5\" /><g stroke=\"black\"><rect fill=\"none\" height=\"181\" stroke-width=\"1.5\" width=\"181\" x=\"20\" y=\"10\" /><line stroke-width=\"1.0\" x1=\"20.5\" x2=\"200.5\" y1=\"30.5\" y2=\"30.5\" /><line stroke-width=\"1.0\" x1=\"20.5\" x2=\"200.5\" y1=\"50.5\" y2=\"50.5\" /><line stroke-width=\"1.0\" x1=\"20.5\" x2=\"200.5\" y1=\"70.5\" y2=\"70.5\" /><line stroke-width=\"1.0\" x1=\"20.5\" x2=\"200.5\" y1=\"90.5\" y2=\"90.5\" /><line stroke-width=\"1.0\" x1=\"20.5\" x2=\"200.5\" y1=\"110.5\" y2=\"110.5\" /><line stroke-width=\"1.0\" x1=\"20.5\" x2=\"200.5\" y1=\"130.5\" y2=\"130.5\" /><line stroke-width=\"1.0\" x1=\"20.5\" x2=\"200.5\" y1=\"150.5\" y2=\"150.5\" /><line stroke-width=\"1.0\" x1=\"20.5\" x2=\"200.5\" y1=\"170.5\" y2=\"170.5\" /><line stroke-width=\"1.0\" x1=\"40.5\" x2=\"40.5\" y1=\"10.5\" y2=\"190.5\" /><line stroke-width=\"1.0\" x1=\"60.5\" x2=\"60.5\" y1=\"10.5\" y2=\"190.5\" /><line stroke-width=\"1.0\" x1=\"80.5\" x2=\"80.5\" y1=\"10.5\" y2=\"190.5\" /><line stroke-width=\"1.0\" x1=\"100.5\" x2=\"100.5\" y1=\"10.5\" y2=\"190.5\" /><line stroke-width=\"1.0\" x1=\"120.5\" x2=\"120.5\" y1=\"10.5\" y2=\"190.5\" /><line stroke-width=\"1.0\" x1=\"140.5\" x2=\"140.5\" y1=\"10.5\" y2=\"190.5\" /><line stroke-width=\"1.0\" x1=\"160.5\" x2=\"160.5\" y1=\"10.5\" y2=\"190.5\" /><line stroke-width=\"1.0\" x1=\"180.5\" x2=\"180.5\" y1=\"10.5\" y2=\"190.5\" /></g><g><text font-family=\"serif\" font-size=\"9\" text-anchor=\"middle\" x=\"30.5\" y=\"8\">9</text><text font-family=\"serif\" font-size=\"9\" text-anchor=\"middle\" x=\"50.5\" y=\"8\">8</text><text font-family=\"serif\" font-size=\"9\" text-anchor=\"middle\" x=\"70.5\" y=\"8\">7</text><text font-family=\"serif\" font-size=\"9\" text-anchor=\"middle\" x=\"90.5\" y=\"8\">6</text><text font-family=\"serif\" font-size=\"9\" text-anchor=\"middle\" x=\"110.5\" y=\"8\">5</text><text font-family=\"serif\" font-size=\"9\" text-anchor=\"middle\" x=\"130.5\" y=\"8\">4</text><text font-family=\"serif\" font-size=\"9\" text-anchor=\"middle\" x=\"150.5\" y=\"8\">3</text><text font-family=\"serif\" font-size=\"9\" text-anchor=\"middle\" x=\"170.5\" y=\"8\">2</text><text font-family=\"serif\" font-size=\"9\" text-anchor=\"middle\" x=\"190.5\" y=\"8\">1</text><text font-family=\"serif\" font-size=\"9\" x=\"203.5\" y=\"23\">&#19968;</text><text font-family=\"serif\" font-size=\"9\" x=\"203.5\" y=\"43\">&#20108;</text><text font-family=\"serif\" font-size=\"9\" x=\"203.5\" y=\"63\">&#19977;</text><text font-family=\"serif\" font-size=\"9\" x=\"203.5\" y=\"83\">&#22235;</text><text font-family=\"serif\" font-size=\"9\" x=\"203.5\" y=\"103\">&#20116;</text><text font-family=\"serif\" font-size=\"9\" x=\"203.5\" y=\"123\">&#20845;</text><text font-family=\"serif\" font-size=\"9\" x=\"203.5\" y=\"143\">&#19971;</text><text font-family=\"serif\" font-size=\"9\" x=\"203.5\" y=\"163\">&#20843;</text><text font-family=\"serif\" font-size=\"9\" x=\"203.5\" y=\"183\">&#20061;</text></g><use x=\"180.5\" xlink:href=\"#white-lance\" y=\"10.5\" /><use x=\"180.5\" xlink:href=\"#white-pawn\" y=\"50.5\" /><use x=\"180.5\" xlink:href=\"#black-pawn\" y=\"110.5\" /><use x=\"180.5\" xlink:href=\"#black-lance\" y=\"170.5\" /><use x=\"160.5\" xlink:href=\"#white-knight\" y=\"10.5\" /><use x=\"160.5\" xlink:href=\"#white-bishop\" y=\"30.5\" /><use x=\"160.5\" xlink:href=\"#white-pawn\" y=\"50.5\" /><use x=\"160.5\" xlink:href=\"#black-pawn\" y=\"130.5\" /><use x=\"160.5\" xlink:href=\"#black-rook\" y=\"150.5\" /><use x=\"160.5\" xlink:href=\"#black-knight\" y=\"170.5\" /><use x=\"140.5\" xlink:href=\"#white-silver\" y=\"10.5\" /><use x=\"140.5\" xlink:href=\"#white-pawn\" y=\"50.5\" /><use x=\"140.5\" xlink:href=\"#black-pawn\" y=\"130.5\" /><use x=\"140.5\" xlink:href=\"#black-silver\" y=\"170.5\" /><use x=\"120.5\" xlink:href=\"#white-gold\" y=\"10.5\" /><use x=\"120.5\" xlink:href=\"#white-pawn\" y=\"50.5\" /><use x=\"120.5\" xlink:href=\"#black-pawn\" y=\"130.5\" /><use x=\"120.5\" xlink:href=\"#black-gold\" y=\"170.5\" /><use x=\"100.5\" xlink:href=\"#white-king\" y=\"10.5\" /><use x=\"100.5\" xlink:href=\"#white-pawn\" y=\"50.5\" /><use x=\"100.5\" xlink:href=\"#black-pawn\" y=\"130.5\" /><use x=\"100.5\" xlink:href=\"#black-king\" y=\"170.5\" /><use x=\"80.5\" xlink:href=\"#white-gold\" y=\"10.5\" /><use x=\"80.5\" xlink:href=\"#white-pawn\" y=\"50.5\" /><use x=\"80.5\" xlink:href=\"#black-pawn\" y=\"130.5\" /><use x=\"80.5\" xlink:href=\"#black-gold\" y=\"170.5\" /><use x=\"60.5\" xlink:href=\"#white-silver\" y=\"10.5\" /><use x=\"60.5\" xlink:href=\"#white-pawn\" y=\"50.5\" /><use x=\"60.5\" xlink:href=\"#black-pawn\" y=\"130.5\" /><use x=\"60.5\" xlink:href=\"#black-silver\" y=\"170.5\" /><use x=\"40.5\" xlink:href=\"#white-knight\" y=\"10.5\" /><use x=\"40.5\" xlink:href=\"#white-rook\" y=\"30.5\" /><use x=\"40.5\" xlink:href=\"#white-pawn\" y=\"50.5\" /><use x=\"40.5\" xlink:href=\"#black-pawn\" y=\"130.5\" /><use x=\"40.5\" xlink:href=\"#black-bishop\" y=\"150.5\" /><use x=\"40.5\" xlink:href=\"#black-knight\" y=\"170.5\" /><use x=\"20.5\" xlink:href=\"#white-lance\" y=\"10.5\" /><use x=\"20.5\" xlink:href=\"#white-pawn\" y=\"50.5\" /><use x=\"20.5\" xlink:href=\"#black-pawn\" y=\"130.5\" /><use x=\"20.5\" xlink:href=\"#black-lance\" y=\"170.5\" /><text font-family=\"serif\" font-size=\"14\" x=\"214\" y=\"176\">&#25163;</text><text font-family=\"serif\" font-size=\"14\" x=\"214\" y=\"162\">&#20808;</text><text font-family=\"serif\" font-size=\"14\" x=\"214\" y=\"148\">&#9751;</text><text font-family=\"serif\" font-size=\"14\" transform=\"rotate(180)\" x=\"-16\" y=\"-24\">&#25163;</text><text font-family=\"serif\" font-size=\"14\" transform=\"rotate(180)\" x=\"-16\" y=\"-38\">&#24460;</text><text font-family=\"serif\" font-size=\"14\" transform=\"rotate(180)\" x=\"-16\" y=\"-52\">&#9750;</text></svg>"
          },
          "metadata": {},
          "execution_count": 7
        }
      ]
    },
    {
      "cell_type": "code",
      "source": [
        "board = cshogi.Board()\n",
        "board"
      ],
      "metadata": {
        "colab": {
          "base_uri": "https://localhost:8080/",
          "height": 212
        },
        "id": "xgwo7liWl68x",
        "outputId": "a013da64-7117-4043-dab0-5f2aef7534ce"
      },
      "execution_count": 8,
      "outputs": [
        {
          "output_type": "execute_result",
          "data": {
            "text/plain": [
              "'  9  8  7  6  5  4  3  2  1\n",
              "P1-KY-KE-GI-KI-OU-KI-GI-KE-KY\n",
              "P2 * -HI *  *  *  *  * -KA * \n",
              "P3-FU-FU-FU-FU-FU-FU-FU-FU-FU\n",
              "P4 *  *  *  *  *  *  *  *  * \n",
              "P5 *  *  *  *  *  *  *  *  * \n",
              "P6 *  *  *  *  *  *  *  *  * \n",
              "P7+FU+FU+FU+FU+FU+FU+FU+FU+FU\n",
              "P8 * +KA *  *  *  *  * +HI * \n",
              "P9+KY+KE+GI+KI+OU+KI+GI+KE+KY\n",
              "+"
            ],
            "image/svg+xml": "<svg height=\"192.0\" version=\"1.1\" viewBox=\"0 0 230 192\" width=\"230.0\" xmlns=\"http://www.w3.org/2000/svg\" xmlns:xlink=\"http://www.w3.org/1999/xlink\"><defs><g id=\"black-pawn\"><text font-family=\"serif\" font-size=\"17\" text-anchor=\"middle\" x=\"10.5\" y=\"16.5\">&#27497;</text></g><g id=\"black-lance\"><text font-family=\"serif\" font-size=\"17\" text-anchor=\"middle\" x=\"10.5\" y=\"16.5\">&#39321;</text></g><g id=\"black-knight\"><text font-family=\"serif\" font-size=\"17\" text-anchor=\"middle\" x=\"10.5\" y=\"16.5\">&#26690;</text></g><g id=\"black-silver\"><text font-family=\"serif\" font-size=\"17\" text-anchor=\"middle\" x=\"10.5\" y=\"16.5\">&#37504;</text></g><g id=\"black-gold\"><text font-family=\"serif\" font-size=\"17\" text-anchor=\"middle\" x=\"10.5\" y=\"16.5\">&#37329;</text></g><g id=\"black-bishop\"><text font-family=\"serif\" font-size=\"17\" text-anchor=\"middle\" x=\"10.5\" y=\"16.5\">&#35282;</text></g><g id=\"black-rook\"><text font-family=\"serif\" font-size=\"17\" text-anchor=\"middle\" x=\"10.5\" y=\"16.5\">&#39131;</text></g><g id=\"black-king\"><text font-family=\"serif\" font-size=\"17\" text-anchor=\"middle\" x=\"10.5\" y=\"16.5\">&#29579;</text></g><g id=\"black-pro-pawn\"><text font-family=\"serif\" font-size=\"17\" text-anchor=\"middle\" x=\"10.5\" y=\"16.5\">&#12392;</text></g><g id=\"black-pro-lance\" transform=\"scale(1.0, 0.5)\"><text font-family=\"serif\" font-size=\"17\" text-anchor=\"middle\" x=\"10.5\" y=\"18\">&#25104;</text><text font-family=\"serif\" font-size=\"17\" text-anchor=\"middle\" x=\"10.5\" y=\"34\">&#39321;</text></g><g id=\"black-pro-knight\" transform=\"scale(1.0, 0.5)\"><text font-family=\"serif\" font-size=\"17\" text-anchor=\"middle\" x=\"10.5\" y=\"18\">&#25104;</text><text font-family=\"serif\" font-size=\"17\" text-anchor=\"middle\" x=\"10.5\" y=\"34\">&#26690;</text></g><g id=\"black-pro-silver\" transform=\"scale(1.0, 0.5)\"><text font-family=\"serif\" font-size=\"17\" text-anchor=\"middle\" x=\"10.5\" y=\"18\">&#25104;</text><text font-family=\"serif\" font-size=\"17\" text-anchor=\"middle\" x=\"10.5\" y=\"34\">&#37504;</text></g><g id=\"black-horse\"><text font-family=\"serif\" font-size=\"17\" text-anchor=\"middle\" x=\"10.5\" y=\"16.5\">&#39340;</text></g><g id=\"black-dragon\"><text font-family=\"serif\" font-size=\"17\" text-anchor=\"middle\" x=\"10.5\" y=\"16.5\">&#40845;</text></g><g id=\"white-pawn\" transform=\"rotate(180)\"><text font-family=\"serif\" font-size=\"17\" text-anchor=\"middle\" x=\"-10.5\" y=\"-3.5\">&#27497;</text></g><g id=\"white-lance\" transform=\"rotate(180)\"><text font-family=\"serif\" font-size=\"17\" text-anchor=\"middle\" x=\"-10.5\" y=\"-3.5\">&#39321;</text></g><g id=\"white-knight\" transform=\"rotate(180)\"><text font-family=\"serif\" font-size=\"17\" text-anchor=\"middle\" x=\"-10.5\" y=\"-3.5\">&#26690;</text></g><g id=\"white-silver\" transform=\"rotate(180)\"><text font-family=\"serif\" font-size=\"17\" text-anchor=\"middle\" x=\"-10.5\" y=\"-3.5\">&#37504;</text></g><g id=\"white-gold\" transform=\"rotate(180)\"><text font-family=\"serif\" font-size=\"17\" text-anchor=\"middle\" x=\"-10.5\" y=\"-3.5\">&#37329;</text></g><g id=\"white-bishop\" transform=\"rotate(180)\"><text font-family=\"serif\" font-size=\"17\" text-anchor=\"middle\" x=\"-10.5\" y=\"-3.5\">&#35282;</text></g><g id=\"white-rook\" transform=\"rotate(180)\"><text font-family=\"serif\" font-size=\"17\" text-anchor=\"middle\" x=\"-10.5\" y=\"-3.5\">&#39131;</text></g><g id=\"white-king\" transform=\"rotate(180)\"><text font-family=\"serif\" font-size=\"17\" text-anchor=\"middle\" x=\"-10.5\" y=\"-3.5\">&#29579;</text></g><g id=\"white-pro-pawn\" transform=\"rotate(180)\"><text font-family=\"serif\" font-size=\"17\" text-anchor=\"middle\" x=\"-10.5\" y=\"-3.5\">&#12392;</text></g><g id=\"white-pro-lance\" transform=\"scale(1.0, 0.5) rotate(180)\"><text font-family=\"serif\" font-size=\"17\" text-anchor=\"middle\" x=\"-10.5\" y=\"-22\">&#25104;</text><text font-family=\"serif\" font-size=\"17\" text-anchor=\"middle\" x=\"-10.5\" y=\"-6\">&#39321;</text></g><g id=\"white-pro-knight\" transform=\"scale(1.0, 0.5) rotate(180)\"><text font-family=\"serif\" font-size=\"17\" text-anchor=\"middle\" x=\"-10.5\" y=\"-22\">&#25104;</text><text font-family=\"serif\" font-size=\"17\" text-anchor=\"middle\" x=\"-10.5\" y=\"-6\">&#26690;</text></g><g id=\"white-pro-silver\" transform=\"scale(1.0, 0.5) rotate(180)\"><text font-family=\"serif\" font-size=\"17\" text-anchor=\"middle\" x=\"-10.5\" y=\"-22\">&#25104;</text><text font-family=\"serif\" font-size=\"17\" text-anchor=\"middle\" x=\"-10.5\" y=\"-6\">&#37504;</text></g><g id=\"white-horse\" transform=\"rotate(180)\"><text font-family=\"serif\" font-size=\"17\" text-anchor=\"middle\" x=\"-10.5\" y=\"-3.5\">&#39340;</text></g><g id=\"white-dragon\" transform=\"rotate(180)\"><text font-family=\"serif\" font-size=\"17\" text-anchor=\"middle\" x=\"-10.5\" y=\"-3.5\">&#40845;</text></g></defs><g stroke=\"black\"><rect fill=\"none\" height=\"181\" stroke-width=\"1.5\" width=\"181\" x=\"20\" y=\"10\" /><line stroke-width=\"1.0\" x1=\"20.5\" x2=\"200.5\" y1=\"30.5\" y2=\"30.5\" /><line stroke-width=\"1.0\" x1=\"20.5\" x2=\"200.5\" y1=\"50.5\" y2=\"50.5\" /><line stroke-width=\"1.0\" x1=\"20.5\" x2=\"200.5\" y1=\"70.5\" y2=\"70.5\" /><line stroke-width=\"1.0\" x1=\"20.5\" x2=\"200.5\" y1=\"90.5\" y2=\"90.5\" /><line stroke-width=\"1.0\" x1=\"20.5\" x2=\"200.5\" y1=\"110.5\" y2=\"110.5\" /><line stroke-width=\"1.0\" x1=\"20.5\" x2=\"200.5\" y1=\"130.5\" y2=\"130.5\" /><line stroke-width=\"1.0\" x1=\"20.5\" x2=\"200.5\" y1=\"150.5\" y2=\"150.5\" /><line stroke-width=\"1.0\" x1=\"20.5\" x2=\"200.5\" y1=\"170.5\" y2=\"170.5\" /><line stroke-width=\"1.0\" x1=\"40.5\" x2=\"40.5\" y1=\"10.5\" y2=\"190.5\" /><line stroke-width=\"1.0\" x1=\"60.5\" x2=\"60.5\" y1=\"10.5\" y2=\"190.5\" /><line stroke-width=\"1.0\" x1=\"80.5\" x2=\"80.5\" y1=\"10.5\" y2=\"190.5\" /><line stroke-width=\"1.0\" x1=\"100.5\" x2=\"100.5\" y1=\"10.5\" y2=\"190.5\" /><line stroke-width=\"1.0\" x1=\"120.5\" x2=\"120.5\" y1=\"10.5\" y2=\"190.5\" /><line stroke-width=\"1.0\" x1=\"140.5\" x2=\"140.5\" y1=\"10.5\" y2=\"190.5\" /><line stroke-width=\"1.0\" x1=\"160.5\" x2=\"160.5\" y1=\"10.5\" y2=\"190.5\" /><line stroke-width=\"1.0\" x1=\"180.5\" x2=\"180.5\" y1=\"10.5\" y2=\"190.5\" /></g><g><text font-family=\"serif\" font-size=\"9\" text-anchor=\"middle\" x=\"30.5\" y=\"8\">9</text><text font-family=\"serif\" font-size=\"9\" text-anchor=\"middle\" x=\"50.5\" y=\"8\">8</text><text font-family=\"serif\" font-size=\"9\" text-anchor=\"middle\" x=\"70.5\" y=\"8\">7</text><text font-family=\"serif\" font-size=\"9\" text-anchor=\"middle\" x=\"90.5\" y=\"8\">6</text><text font-family=\"serif\" font-size=\"9\" text-anchor=\"middle\" x=\"110.5\" y=\"8\">5</text><text font-family=\"serif\" font-size=\"9\" text-anchor=\"middle\" x=\"130.5\" y=\"8\">4</text><text font-family=\"serif\" font-size=\"9\" text-anchor=\"middle\" x=\"150.5\" y=\"8\">3</text><text font-family=\"serif\" font-size=\"9\" text-anchor=\"middle\" x=\"170.5\" y=\"8\">2</text><text font-family=\"serif\" font-size=\"9\" text-anchor=\"middle\" x=\"190.5\" y=\"8\">1</text><text font-family=\"serif\" font-size=\"9\" x=\"203.5\" y=\"23\">&#19968;</text><text font-family=\"serif\" font-size=\"9\" x=\"203.5\" y=\"43\">&#20108;</text><text font-family=\"serif\" font-size=\"9\" x=\"203.5\" y=\"63\">&#19977;</text><text font-family=\"serif\" font-size=\"9\" x=\"203.5\" y=\"83\">&#22235;</text><text font-family=\"serif\" font-size=\"9\" x=\"203.5\" y=\"103\">&#20116;</text><text font-family=\"serif\" font-size=\"9\" x=\"203.5\" y=\"123\">&#20845;</text><text font-family=\"serif\" font-size=\"9\" x=\"203.5\" y=\"143\">&#19971;</text><text font-family=\"serif\" font-size=\"9\" x=\"203.5\" y=\"163\">&#20843;</text><text font-family=\"serif\" font-size=\"9\" x=\"203.5\" y=\"183\">&#20061;</text></g><use x=\"180.5\" xlink:href=\"#white-lance\" y=\"10.5\" /><use x=\"180.5\" xlink:href=\"#white-pawn\" y=\"50.5\" /><use x=\"180.5\" xlink:href=\"#black-pawn\" y=\"130.5\" /><use x=\"180.5\" xlink:href=\"#black-lance\" y=\"170.5\" /><use x=\"160.5\" xlink:href=\"#white-knight\" y=\"10.5\" /><use x=\"160.5\" xlink:href=\"#white-bishop\" y=\"30.5\" /><use x=\"160.5\" xlink:href=\"#white-pawn\" y=\"50.5\" /><use x=\"160.5\" xlink:href=\"#black-pawn\" y=\"130.5\" /><use x=\"160.5\" xlink:href=\"#black-rook\" y=\"150.5\" /><use x=\"160.5\" xlink:href=\"#black-knight\" y=\"170.5\" /><use x=\"140.5\" xlink:href=\"#white-silver\" y=\"10.5\" /><use x=\"140.5\" xlink:href=\"#white-pawn\" y=\"50.5\" /><use x=\"140.5\" xlink:href=\"#black-pawn\" y=\"130.5\" /><use x=\"140.5\" xlink:href=\"#black-silver\" y=\"170.5\" /><use x=\"120.5\" xlink:href=\"#white-gold\" y=\"10.5\" /><use x=\"120.5\" xlink:href=\"#white-pawn\" y=\"50.5\" /><use x=\"120.5\" xlink:href=\"#black-pawn\" y=\"130.5\" /><use x=\"120.5\" xlink:href=\"#black-gold\" y=\"170.5\" /><use x=\"100.5\" xlink:href=\"#white-king\" y=\"10.5\" /><use x=\"100.5\" xlink:href=\"#white-pawn\" y=\"50.5\" /><use x=\"100.5\" xlink:href=\"#black-pawn\" y=\"130.5\" /><use x=\"100.5\" xlink:href=\"#black-king\" y=\"170.5\" /><use x=\"80.5\" xlink:href=\"#white-gold\" y=\"10.5\" /><use x=\"80.5\" xlink:href=\"#white-pawn\" y=\"50.5\" /><use x=\"80.5\" xlink:href=\"#black-pawn\" y=\"130.5\" /><use x=\"80.5\" xlink:href=\"#black-gold\" y=\"170.5\" /><use x=\"60.5\" xlink:href=\"#white-silver\" y=\"10.5\" /><use x=\"60.5\" xlink:href=\"#white-pawn\" y=\"50.5\" /><use x=\"60.5\" xlink:href=\"#black-pawn\" y=\"130.5\" /><use x=\"60.5\" xlink:href=\"#black-silver\" y=\"170.5\" /><use x=\"40.5\" xlink:href=\"#white-knight\" y=\"10.5\" /><use x=\"40.5\" xlink:href=\"#white-rook\" y=\"30.5\" /><use x=\"40.5\" xlink:href=\"#white-pawn\" y=\"50.5\" /><use x=\"40.5\" xlink:href=\"#black-pawn\" y=\"130.5\" /><use x=\"40.5\" xlink:href=\"#black-bishop\" y=\"150.5\" /><use x=\"40.5\" xlink:href=\"#black-knight\" y=\"170.5\" /><use x=\"20.5\" xlink:href=\"#white-lance\" y=\"10.5\" /><use x=\"20.5\" xlink:href=\"#white-pawn\" y=\"50.5\" /><use x=\"20.5\" xlink:href=\"#black-pawn\" y=\"130.5\" /><use x=\"20.5\" xlink:href=\"#black-lance\" y=\"170.5\" /><text font-family=\"serif\" font-size=\"14\" x=\"214\" y=\"176\">&#25163;</text><text font-family=\"serif\" font-size=\"14\" x=\"214\" y=\"162\">&#20808;</text><text font-family=\"serif\" font-size=\"14\" x=\"214\" y=\"148\">&#9751;</text><text font-family=\"serif\" font-size=\"14\" transform=\"rotate(180)\" x=\"-16\" y=\"-24\">&#25163;</text><text font-family=\"serif\" font-size=\"14\" transform=\"rotate(180)\" x=\"-16\" y=\"-38\">&#24460;</text><text font-family=\"serif\" font-size=\"14\" transform=\"rotate(180)\" x=\"-16\" y=\"-52\">&#9750;</text></svg>"
          },
          "metadata": {},
          "execution_count": 8
        }
      ]
    },
    {
      "cell_type": "code",
      "source": [
        "move = board.move_from_usi('7g7f')\n",
        "print(move)\n",
        "board.push(move)\n",
        "board"
      ],
      "metadata": {
        "colab": {
          "base_uri": "https://localhost:8080/",
          "height": 230
        },
        "id": "ucZ6QGYWmBvs",
        "outputId": "a0db7efa-de35-4315-a601-74bd154a8a15"
      },
      "execution_count": 9,
      "outputs": [
        {
          "output_type": "stream",
          "name": "stdout",
          "text": [
            "73275\n"
          ]
        },
        {
          "output_type": "execute_result",
          "data": {
            "text/plain": [
              "'  9  8  7  6  5  4  3  2  1\n",
              "P1-KY-KE-GI-KI-OU-KI-GI-KE-KY\n",
              "P2 * -HI *  *  *  *  * -KA * \n",
              "P3-FU-FU-FU-FU-FU-FU-FU-FU-FU\n",
              "P4 *  *  *  *  *  *  *  *  * \n",
              "P5 *  *  *  *  *  *  *  *  * \n",
              "P6 *  * +FU *  *  *  *  *  * \n",
              "P7+FU+FU * +FU+FU+FU+FU+FU+FU\n",
              "P8 * +KA *  *  *  *  * +HI * \n",
              "P9+KY+KE+GI+KI+OU+KI+GI+KE+KY\n",
              "-"
            ],
            "image/svg+xml": "<svg height=\"192.0\" version=\"1.1\" viewBox=\"0 0 230 192\" width=\"230.0\" xmlns=\"http://www.w3.org/2000/svg\" xmlns:xlink=\"http://www.w3.org/1999/xlink\"><defs><g id=\"black-pawn\"><text font-family=\"serif\" font-size=\"17\" text-anchor=\"middle\" x=\"10.5\" y=\"16.5\">&#27497;</text></g><g id=\"black-lance\"><text font-family=\"serif\" font-size=\"17\" text-anchor=\"middle\" x=\"10.5\" y=\"16.5\">&#39321;</text></g><g id=\"black-knight\"><text font-family=\"serif\" font-size=\"17\" text-anchor=\"middle\" x=\"10.5\" y=\"16.5\">&#26690;</text></g><g id=\"black-silver\"><text font-family=\"serif\" font-size=\"17\" text-anchor=\"middle\" x=\"10.5\" y=\"16.5\">&#37504;</text></g><g id=\"black-gold\"><text font-family=\"serif\" font-size=\"17\" text-anchor=\"middle\" x=\"10.5\" y=\"16.5\">&#37329;</text></g><g id=\"black-bishop\"><text font-family=\"serif\" font-size=\"17\" text-anchor=\"middle\" x=\"10.5\" y=\"16.5\">&#35282;</text></g><g id=\"black-rook\"><text font-family=\"serif\" font-size=\"17\" text-anchor=\"middle\" x=\"10.5\" y=\"16.5\">&#39131;</text></g><g id=\"black-king\"><text font-family=\"serif\" font-size=\"17\" text-anchor=\"middle\" x=\"10.5\" y=\"16.5\">&#29579;</text></g><g id=\"black-pro-pawn\"><text font-family=\"serif\" font-size=\"17\" text-anchor=\"middle\" x=\"10.5\" y=\"16.5\">&#12392;</text></g><g id=\"black-pro-lance\" transform=\"scale(1.0, 0.5)\"><text font-family=\"serif\" font-size=\"17\" text-anchor=\"middle\" x=\"10.5\" y=\"18\">&#25104;</text><text font-family=\"serif\" font-size=\"17\" text-anchor=\"middle\" x=\"10.5\" y=\"34\">&#39321;</text></g><g id=\"black-pro-knight\" transform=\"scale(1.0, 0.5)\"><text font-family=\"serif\" font-size=\"17\" text-anchor=\"middle\" x=\"10.5\" y=\"18\">&#25104;</text><text font-family=\"serif\" font-size=\"17\" text-anchor=\"middle\" x=\"10.5\" y=\"34\">&#26690;</text></g><g id=\"black-pro-silver\" transform=\"scale(1.0, 0.5)\"><text font-family=\"serif\" font-size=\"17\" text-anchor=\"middle\" x=\"10.5\" y=\"18\">&#25104;</text><text font-family=\"serif\" font-size=\"17\" text-anchor=\"middle\" x=\"10.5\" y=\"34\">&#37504;</text></g><g id=\"black-horse\"><text font-family=\"serif\" font-size=\"17\" text-anchor=\"middle\" x=\"10.5\" y=\"16.5\">&#39340;</text></g><g id=\"black-dragon\"><text font-family=\"serif\" font-size=\"17\" text-anchor=\"middle\" x=\"10.5\" y=\"16.5\">&#40845;</text></g><g id=\"white-pawn\" transform=\"rotate(180)\"><text font-family=\"serif\" font-size=\"17\" text-anchor=\"middle\" x=\"-10.5\" y=\"-3.5\">&#27497;</text></g><g id=\"white-lance\" transform=\"rotate(180)\"><text font-family=\"serif\" font-size=\"17\" text-anchor=\"middle\" x=\"-10.5\" y=\"-3.5\">&#39321;</text></g><g id=\"white-knight\" transform=\"rotate(180)\"><text font-family=\"serif\" font-size=\"17\" text-anchor=\"middle\" x=\"-10.5\" y=\"-3.5\">&#26690;</text></g><g id=\"white-silver\" transform=\"rotate(180)\"><text font-family=\"serif\" font-size=\"17\" text-anchor=\"middle\" x=\"-10.5\" y=\"-3.5\">&#37504;</text></g><g id=\"white-gold\" transform=\"rotate(180)\"><text font-family=\"serif\" font-size=\"17\" text-anchor=\"middle\" x=\"-10.5\" y=\"-3.5\">&#37329;</text></g><g id=\"white-bishop\" transform=\"rotate(180)\"><text font-family=\"serif\" font-size=\"17\" text-anchor=\"middle\" x=\"-10.5\" y=\"-3.5\">&#35282;</text></g><g id=\"white-rook\" transform=\"rotate(180)\"><text font-family=\"serif\" font-size=\"17\" text-anchor=\"middle\" x=\"-10.5\" y=\"-3.5\">&#39131;</text></g><g id=\"white-king\" transform=\"rotate(180)\"><text font-family=\"serif\" font-size=\"17\" text-anchor=\"middle\" x=\"-10.5\" y=\"-3.5\">&#29579;</text></g><g id=\"white-pro-pawn\" transform=\"rotate(180)\"><text font-family=\"serif\" font-size=\"17\" text-anchor=\"middle\" x=\"-10.5\" y=\"-3.5\">&#12392;</text></g><g id=\"white-pro-lance\" transform=\"scale(1.0, 0.5) rotate(180)\"><text font-family=\"serif\" font-size=\"17\" text-anchor=\"middle\" x=\"-10.5\" y=\"-22\">&#25104;</text><text font-family=\"serif\" font-size=\"17\" text-anchor=\"middle\" x=\"-10.5\" y=\"-6\">&#39321;</text></g><g id=\"white-pro-knight\" transform=\"scale(1.0, 0.5) rotate(180)\"><text font-family=\"serif\" font-size=\"17\" text-anchor=\"middle\" x=\"-10.5\" y=\"-22\">&#25104;</text><text font-family=\"serif\" font-size=\"17\" text-anchor=\"middle\" x=\"-10.5\" y=\"-6\">&#26690;</text></g><g id=\"white-pro-silver\" transform=\"scale(1.0, 0.5) rotate(180)\"><text font-family=\"serif\" font-size=\"17\" text-anchor=\"middle\" x=\"-10.5\" y=\"-22\">&#25104;</text><text font-family=\"serif\" font-size=\"17\" text-anchor=\"middle\" x=\"-10.5\" y=\"-6\">&#37504;</text></g><g id=\"white-horse\" transform=\"rotate(180)\"><text font-family=\"serif\" font-size=\"17\" text-anchor=\"middle\" x=\"-10.5\" y=\"-3.5\">&#39340;</text></g><g id=\"white-dragon\" transform=\"rotate(180)\"><text font-family=\"serif\" font-size=\"17\" text-anchor=\"middle\" x=\"-10.5\" y=\"-3.5\">&#40845;</text></g></defs><rect fill=\"#f6b94d\" height=\"20\" width=\"20\" x=\"60.5\" y=\"110.5\" /><rect fill=\"#fdf0e3\" height=\"20\" width=\"20\" x=\"60.5\" y=\"130.5\" /><g stroke=\"black\"><rect fill=\"none\" height=\"181\" stroke-width=\"1.5\" width=\"181\" x=\"20\" y=\"10\" /><line stroke-width=\"1.0\" x1=\"20.5\" x2=\"200.5\" y1=\"30.5\" y2=\"30.5\" /><line stroke-width=\"1.0\" x1=\"20.5\" x2=\"200.5\" y1=\"50.5\" y2=\"50.5\" /><line stroke-width=\"1.0\" x1=\"20.5\" x2=\"200.5\" y1=\"70.5\" y2=\"70.5\" /><line stroke-width=\"1.0\" x1=\"20.5\" x2=\"200.5\" y1=\"90.5\" y2=\"90.5\" /><line stroke-width=\"1.0\" x1=\"20.5\" x2=\"200.5\" y1=\"110.5\" y2=\"110.5\" /><line stroke-width=\"1.0\" x1=\"20.5\" x2=\"200.5\" y1=\"130.5\" y2=\"130.5\" /><line stroke-width=\"1.0\" x1=\"20.5\" x2=\"200.5\" y1=\"150.5\" y2=\"150.5\" /><line stroke-width=\"1.0\" x1=\"20.5\" x2=\"200.5\" y1=\"170.5\" y2=\"170.5\" /><line stroke-width=\"1.0\" x1=\"40.5\" x2=\"40.5\" y1=\"10.5\" y2=\"190.5\" /><line stroke-width=\"1.0\" x1=\"60.5\" x2=\"60.5\" y1=\"10.5\" y2=\"190.5\" /><line stroke-width=\"1.0\" x1=\"80.5\" x2=\"80.5\" y1=\"10.5\" y2=\"190.5\" /><line stroke-width=\"1.0\" x1=\"100.5\" x2=\"100.5\" y1=\"10.5\" y2=\"190.5\" /><line stroke-width=\"1.0\" x1=\"120.5\" x2=\"120.5\" y1=\"10.5\" y2=\"190.5\" /><line stroke-width=\"1.0\" x1=\"140.5\" x2=\"140.5\" y1=\"10.5\" y2=\"190.5\" /><line stroke-width=\"1.0\" x1=\"160.5\" x2=\"160.5\" y1=\"10.5\" y2=\"190.5\" /><line stroke-width=\"1.0\" x1=\"180.5\" x2=\"180.5\" y1=\"10.5\" y2=\"190.5\" /></g><g><text font-family=\"serif\" font-size=\"9\" text-anchor=\"middle\" x=\"30.5\" y=\"8\">9</text><text font-family=\"serif\" font-size=\"9\" text-anchor=\"middle\" x=\"50.5\" y=\"8\">8</text><text font-family=\"serif\" font-size=\"9\" text-anchor=\"middle\" x=\"70.5\" y=\"8\">7</text><text font-family=\"serif\" font-size=\"9\" text-anchor=\"middle\" x=\"90.5\" y=\"8\">6</text><text font-family=\"serif\" font-size=\"9\" text-anchor=\"middle\" x=\"110.5\" y=\"8\">5</text><text font-family=\"serif\" font-size=\"9\" text-anchor=\"middle\" x=\"130.5\" y=\"8\">4</text><text font-family=\"serif\" font-size=\"9\" text-anchor=\"middle\" x=\"150.5\" y=\"8\">3</text><text font-family=\"serif\" font-size=\"9\" text-anchor=\"middle\" x=\"170.5\" y=\"8\">2</text><text font-family=\"serif\" font-size=\"9\" text-anchor=\"middle\" x=\"190.5\" y=\"8\">1</text><text font-family=\"serif\" font-size=\"9\" x=\"203.5\" y=\"23\">&#19968;</text><text font-family=\"serif\" font-size=\"9\" x=\"203.5\" y=\"43\">&#20108;</text><text font-family=\"serif\" font-size=\"9\" x=\"203.5\" y=\"63\">&#19977;</text><text font-family=\"serif\" font-size=\"9\" x=\"203.5\" y=\"83\">&#22235;</text><text font-family=\"serif\" font-size=\"9\" x=\"203.5\" y=\"103\">&#20116;</text><text font-family=\"serif\" font-size=\"9\" x=\"203.5\" y=\"123\">&#20845;</text><text font-family=\"serif\" font-size=\"9\" x=\"203.5\" y=\"143\">&#19971;</text><text font-family=\"serif\" font-size=\"9\" x=\"203.5\" y=\"163\">&#20843;</text><text font-family=\"serif\" font-size=\"9\" x=\"203.5\" y=\"183\">&#20061;</text></g><use x=\"180.5\" xlink:href=\"#white-lance\" y=\"10.5\" /><use x=\"180.5\" xlink:href=\"#white-pawn\" y=\"50.5\" /><use x=\"180.5\" xlink:href=\"#black-pawn\" y=\"130.5\" /><use x=\"180.5\" xlink:href=\"#black-lance\" y=\"170.5\" /><use x=\"160.5\" xlink:href=\"#white-knight\" y=\"10.5\" /><use x=\"160.5\" xlink:href=\"#white-bishop\" y=\"30.5\" /><use x=\"160.5\" xlink:href=\"#white-pawn\" y=\"50.5\" /><use x=\"160.5\" xlink:href=\"#black-pawn\" y=\"130.5\" /><use x=\"160.5\" xlink:href=\"#black-rook\" y=\"150.5\" /><use x=\"160.5\" xlink:href=\"#black-knight\" y=\"170.5\" /><use x=\"140.5\" xlink:href=\"#white-silver\" y=\"10.5\" /><use x=\"140.5\" xlink:href=\"#white-pawn\" y=\"50.5\" /><use x=\"140.5\" xlink:href=\"#black-pawn\" y=\"130.5\" /><use x=\"140.5\" xlink:href=\"#black-silver\" y=\"170.5\" /><use x=\"120.5\" xlink:href=\"#white-gold\" y=\"10.5\" /><use x=\"120.5\" xlink:href=\"#white-pawn\" y=\"50.5\" /><use x=\"120.5\" xlink:href=\"#black-pawn\" y=\"130.5\" /><use x=\"120.5\" xlink:href=\"#black-gold\" y=\"170.5\" /><use x=\"100.5\" xlink:href=\"#white-king\" y=\"10.5\" /><use x=\"100.5\" xlink:href=\"#white-pawn\" y=\"50.5\" /><use x=\"100.5\" xlink:href=\"#black-pawn\" y=\"130.5\" /><use x=\"100.5\" xlink:href=\"#black-king\" y=\"170.5\" /><use x=\"80.5\" xlink:href=\"#white-gold\" y=\"10.5\" /><use x=\"80.5\" xlink:href=\"#white-pawn\" y=\"50.5\" /><use x=\"80.5\" xlink:href=\"#black-pawn\" y=\"130.5\" /><use x=\"80.5\" xlink:href=\"#black-gold\" y=\"170.5\" /><use x=\"60.5\" xlink:href=\"#white-silver\" y=\"10.5\" /><use x=\"60.5\" xlink:href=\"#white-pawn\" y=\"50.5\" /><use x=\"60.5\" xlink:href=\"#black-pawn\" y=\"110.5\" /><use x=\"60.5\" xlink:href=\"#black-silver\" y=\"170.5\" /><use x=\"40.5\" xlink:href=\"#white-knight\" y=\"10.5\" /><use x=\"40.5\" xlink:href=\"#white-rook\" y=\"30.5\" /><use x=\"40.5\" xlink:href=\"#white-pawn\" y=\"50.5\" /><use x=\"40.5\" xlink:href=\"#black-pawn\" y=\"130.5\" /><use x=\"40.5\" xlink:href=\"#black-bishop\" y=\"150.5\" /><use x=\"40.5\" xlink:href=\"#black-knight\" y=\"170.5\" /><use x=\"20.5\" xlink:href=\"#white-lance\" y=\"10.5\" /><use x=\"20.5\" xlink:href=\"#white-pawn\" y=\"50.5\" /><use x=\"20.5\" xlink:href=\"#black-pawn\" y=\"130.5\" /><use x=\"20.5\" xlink:href=\"#black-lance\" y=\"170.5\" /><text font-family=\"serif\" font-size=\"14\" x=\"214\" y=\"176\">&#25163;</text><text font-family=\"serif\" font-size=\"14\" x=\"214\" y=\"162\">&#20808;</text><text font-family=\"serif\" font-size=\"14\" x=\"214\" y=\"148\">&#9751;</text><text font-family=\"serif\" font-size=\"14\" transform=\"rotate(180)\" x=\"-16\" y=\"-24\">&#25163;</text><text font-family=\"serif\" font-size=\"14\" transform=\"rotate(180)\" x=\"-16\" y=\"-38\">&#24460;</text><text font-family=\"serif\" font-size=\"14\" transform=\"rotate(180)\" x=\"-16\" y=\"-52\">&#9750;</text></svg>"
          },
          "metadata": {},
          "execution_count": 9
        }
      ]
    },
    {
      "cell_type": "code",
      "source": [
        "board = cshogi.Board()\n",
        "board"
      ],
      "metadata": {
        "colab": {
          "base_uri": "https://localhost:8080/",
          "height": 212
        },
        "id": "JqPL04vpmHL7",
        "outputId": "4bad7be7-788c-4a70-c956-b239e079bf10"
      },
      "execution_count": 10,
      "outputs": [
        {
          "output_type": "execute_result",
          "data": {
            "text/plain": [
              "'  9  8  7  6  5  4  3  2  1\n",
              "P1-KY-KE-GI-KI-OU-KI-GI-KE-KY\n",
              "P2 * -HI *  *  *  *  * -KA * \n",
              "P3-FU-FU-FU-FU-FU-FU-FU-FU-FU\n",
              "P4 *  *  *  *  *  *  *  *  * \n",
              "P5 *  *  *  *  *  *  *  *  * \n",
              "P6 *  *  *  *  *  *  *  *  * \n",
              "P7+FU+FU+FU+FU+FU+FU+FU+FU+FU\n",
              "P8 * +KA *  *  *  *  * +HI * \n",
              "P9+KY+KE+GI+KI+OU+KI+GI+KE+KY\n",
              "+"
            ],
            "image/svg+xml": "<svg height=\"192.0\" version=\"1.1\" viewBox=\"0 0 230 192\" width=\"230.0\" xmlns=\"http://www.w3.org/2000/svg\" xmlns:xlink=\"http://www.w3.org/1999/xlink\"><defs><g id=\"black-pawn\"><text font-family=\"serif\" font-size=\"17\" text-anchor=\"middle\" x=\"10.5\" y=\"16.5\">&#27497;</text></g><g id=\"black-lance\"><text font-family=\"serif\" font-size=\"17\" text-anchor=\"middle\" x=\"10.5\" y=\"16.5\">&#39321;</text></g><g id=\"black-knight\"><text font-family=\"serif\" font-size=\"17\" text-anchor=\"middle\" x=\"10.5\" y=\"16.5\">&#26690;</text></g><g id=\"black-silver\"><text font-family=\"serif\" font-size=\"17\" text-anchor=\"middle\" x=\"10.5\" y=\"16.5\">&#37504;</text></g><g id=\"black-gold\"><text font-family=\"serif\" font-size=\"17\" text-anchor=\"middle\" x=\"10.5\" y=\"16.5\">&#37329;</text></g><g id=\"black-bishop\"><text font-family=\"serif\" font-size=\"17\" text-anchor=\"middle\" x=\"10.5\" y=\"16.5\">&#35282;</text></g><g id=\"black-rook\"><text font-family=\"serif\" font-size=\"17\" text-anchor=\"middle\" x=\"10.5\" y=\"16.5\">&#39131;</text></g><g id=\"black-king\"><text font-family=\"serif\" font-size=\"17\" text-anchor=\"middle\" x=\"10.5\" y=\"16.5\">&#29579;</text></g><g id=\"black-pro-pawn\"><text font-family=\"serif\" font-size=\"17\" text-anchor=\"middle\" x=\"10.5\" y=\"16.5\">&#12392;</text></g><g id=\"black-pro-lance\" transform=\"scale(1.0, 0.5)\"><text font-family=\"serif\" font-size=\"17\" text-anchor=\"middle\" x=\"10.5\" y=\"18\">&#25104;</text><text font-family=\"serif\" font-size=\"17\" text-anchor=\"middle\" x=\"10.5\" y=\"34\">&#39321;</text></g><g id=\"black-pro-knight\" transform=\"scale(1.0, 0.5)\"><text font-family=\"serif\" font-size=\"17\" text-anchor=\"middle\" x=\"10.5\" y=\"18\">&#25104;</text><text font-family=\"serif\" font-size=\"17\" text-anchor=\"middle\" x=\"10.5\" y=\"34\">&#26690;</text></g><g id=\"black-pro-silver\" transform=\"scale(1.0, 0.5)\"><text font-family=\"serif\" font-size=\"17\" text-anchor=\"middle\" x=\"10.5\" y=\"18\">&#25104;</text><text font-family=\"serif\" font-size=\"17\" text-anchor=\"middle\" x=\"10.5\" y=\"34\">&#37504;</text></g><g id=\"black-horse\"><text font-family=\"serif\" font-size=\"17\" text-anchor=\"middle\" x=\"10.5\" y=\"16.5\">&#39340;</text></g><g id=\"black-dragon\"><text font-family=\"serif\" font-size=\"17\" text-anchor=\"middle\" x=\"10.5\" y=\"16.5\">&#40845;</text></g><g id=\"white-pawn\" transform=\"rotate(180)\"><text font-family=\"serif\" font-size=\"17\" text-anchor=\"middle\" x=\"-10.5\" y=\"-3.5\">&#27497;</text></g><g id=\"white-lance\" transform=\"rotate(180)\"><text font-family=\"serif\" font-size=\"17\" text-anchor=\"middle\" x=\"-10.5\" y=\"-3.5\">&#39321;</text></g><g id=\"white-knight\" transform=\"rotate(180)\"><text font-family=\"serif\" font-size=\"17\" text-anchor=\"middle\" x=\"-10.5\" y=\"-3.5\">&#26690;</text></g><g id=\"white-silver\" transform=\"rotate(180)\"><text font-family=\"serif\" font-size=\"17\" text-anchor=\"middle\" x=\"-10.5\" y=\"-3.5\">&#37504;</text></g><g id=\"white-gold\" transform=\"rotate(180)\"><text font-family=\"serif\" font-size=\"17\" text-anchor=\"middle\" x=\"-10.5\" y=\"-3.5\">&#37329;</text></g><g id=\"white-bishop\" transform=\"rotate(180)\"><text font-family=\"serif\" font-size=\"17\" text-anchor=\"middle\" x=\"-10.5\" y=\"-3.5\">&#35282;</text></g><g id=\"white-rook\" transform=\"rotate(180)\"><text font-family=\"serif\" font-size=\"17\" text-anchor=\"middle\" x=\"-10.5\" y=\"-3.5\">&#39131;</text></g><g id=\"white-king\" transform=\"rotate(180)\"><text font-family=\"serif\" font-size=\"17\" text-anchor=\"middle\" x=\"-10.5\" y=\"-3.5\">&#29579;</text></g><g id=\"white-pro-pawn\" transform=\"rotate(180)\"><text font-family=\"serif\" font-size=\"17\" text-anchor=\"middle\" x=\"-10.5\" y=\"-3.5\">&#12392;</text></g><g id=\"white-pro-lance\" transform=\"scale(1.0, 0.5) rotate(180)\"><text font-family=\"serif\" font-size=\"17\" text-anchor=\"middle\" x=\"-10.5\" y=\"-22\">&#25104;</text><text font-family=\"serif\" font-size=\"17\" text-anchor=\"middle\" x=\"-10.5\" y=\"-6\">&#39321;</text></g><g id=\"white-pro-knight\" transform=\"scale(1.0, 0.5) rotate(180)\"><text font-family=\"serif\" font-size=\"17\" text-anchor=\"middle\" x=\"-10.5\" y=\"-22\">&#25104;</text><text font-family=\"serif\" font-size=\"17\" text-anchor=\"middle\" x=\"-10.5\" y=\"-6\">&#26690;</text></g><g id=\"white-pro-silver\" transform=\"scale(1.0, 0.5) rotate(180)\"><text font-family=\"serif\" font-size=\"17\" text-anchor=\"middle\" x=\"-10.5\" y=\"-22\">&#25104;</text><text font-family=\"serif\" font-size=\"17\" text-anchor=\"middle\" x=\"-10.5\" y=\"-6\">&#37504;</text></g><g id=\"white-horse\" transform=\"rotate(180)\"><text font-family=\"serif\" font-size=\"17\" text-anchor=\"middle\" x=\"-10.5\" y=\"-3.5\">&#39340;</text></g><g id=\"white-dragon\" transform=\"rotate(180)\"><text font-family=\"serif\" font-size=\"17\" text-anchor=\"middle\" x=\"-10.5\" y=\"-3.5\">&#40845;</text></g></defs><g stroke=\"black\"><rect fill=\"none\" height=\"181\" stroke-width=\"1.5\" width=\"181\" x=\"20\" y=\"10\" /><line stroke-width=\"1.0\" x1=\"20.5\" x2=\"200.5\" y1=\"30.5\" y2=\"30.5\" /><line stroke-width=\"1.0\" x1=\"20.5\" x2=\"200.5\" y1=\"50.5\" y2=\"50.5\" /><line stroke-width=\"1.0\" x1=\"20.5\" x2=\"200.5\" y1=\"70.5\" y2=\"70.5\" /><line stroke-width=\"1.0\" x1=\"20.5\" x2=\"200.5\" y1=\"90.5\" y2=\"90.5\" /><line stroke-width=\"1.0\" x1=\"20.5\" x2=\"200.5\" y1=\"110.5\" y2=\"110.5\" /><line stroke-width=\"1.0\" x1=\"20.5\" x2=\"200.5\" y1=\"130.5\" y2=\"130.5\" /><line stroke-width=\"1.0\" x1=\"20.5\" x2=\"200.5\" y1=\"150.5\" y2=\"150.5\" /><line stroke-width=\"1.0\" x1=\"20.5\" x2=\"200.5\" y1=\"170.5\" y2=\"170.5\" /><line stroke-width=\"1.0\" x1=\"40.5\" x2=\"40.5\" y1=\"10.5\" y2=\"190.5\" /><line stroke-width=\"1.0\" x1=\"60.5\" x2=\"60.5\" y1=\"10.5\" y2=\"190.5\" /><line stroke-width=\"1.0\" x1=\"80.5\" x2=\"80.5\" y1=\"10.5\" y2=\"190.5\" /><line stroke-width=\"1.0\" x1=\"100.5\" x2=\"100.5\" y1=\"10.5\" y2=\"190.5\" /><line stroke-width=\"1.0\" x1=\"120.5\" x2=\"120.5\" y1=\"10.5\" y2=\"190.5\" /><line stroke-width=\"1.0\" x1=\"140.5\" x2=\"140.5\" y1=\"10.5\" y2=\"190.5\" /><line stroke-width=\"1.0\" x1=\"160.5\" x2=\"160.5\" y1=\"10.5\" y2=\"190.5\" /><line stroke-width=\"1.0\" x1=\"180.5\" x2=\"180.5\" y1=\"10.5\" y2=\"190.5\" /></g><g><text font-family=\"serif\" font-size=\"9\" text-anchor=\"middle\" x=\"30.5\" y=\"8\">9</text><text font-family=\"serif\" font-size=\"9\" text-anchor=\"middle\" x=\"50.5\" y=\"8\">8</text><text font-family=\"serif\" font-size=\"9\" text-anchor=\"middle\" x=\"70.5\" y=\"8\">7</text><text font-family=\"serif\" font-size=\"9\" text-anchor=\"middle\" x=\"90.5\" y=\"8\">6</text><text font-family=\"serif\" font-size=\"9\" text-anchor=\"middle\" x=\"110.5\" y=\"8\">5</text><text font-family=\"serif\" font-size=\"9\" text-anchor=\"middle\" x=\"130.5\" y=\"8\">4</text><text font-family=\"serif\" font-size=\"9\" text-anchor=\"middle\" x=\"150.5\" y=\"8\">3</text><text font-family=\"serif\" font-size=\"9\" text-anchor=\"middle\" x=\"170.5\" y=\"8\">2</text><text font-family=\"serif\" font-size=\"9\" text-anchor=\"middle\" x=\"190.5\" y=\"8\">1</text><text font-family=\"serif\" font-size=\"9\" x=\"203.5\" y=\"23\">&#19968;</text><text font-family=\"serif\" font-size=\"9\" x=\"203.5\" y=\"43\">&#20108;</text><text font-family=\"serif\" font-size=\"9\" x=\"203.5\" y=\"63\">&#19977;</text><text font-family=\"serif\" font-size=\"9\" x=\"203.5\" y=\"83\">&#22235;</text><text font-family=\"serif\" font-size=\"9\" x=\"203.5\" y=\"103\">&#20116;</text><text font-family=\"serif\" font-size=\"9\" x=\"203.5\" y=\"123\">&#20845;</text><text font-family=\"serif\" font-size=\"9\" x=\"203.5\" y=\"143\">&#19971;</text><text font-family=\"serif\" font-size=\"9\" x=\"203.5\" y=\"163\">&#20843;</text><text font-family=\"serif\" font-size=\"9\" x=\"203.5\" y=\"183\">&#20061;</text></g><use x=\"180.5\" xlink:href=\"#white-lance\" y=\"10.5\" /><use x=\"180.5\" xlink:href=\"#white-pawn\" y=\"50.5\" /><use x=\"180.5\" xlink:href=\"#black-pawn\" y=\"130.5\" /><use x=\"180.5\" xlink:href=\"#black-lance\" y=\"170.5\" /><use x=\"160.5\" xlink:href=\"#white-knight\" y=\"10.5\" /><use x=\"160.5\" xlink:href=\"#white-bishop\" y=\"30.5\" /><use x=\"160.5\" xlink:href=\"#white-pawn\" y=\"50.5\" /><use x=\"160.5\" xlink:href=\"#black-pawn\" y=\"130.5\" /><use x=\"160.5\" xlink:href=\"#black-rook\" y=\"150.5\" /><use x=\"160.5\" xlink:href=\"#black-knight\" y=\"170.5\" /><use x=\"140.5\" xlink:href=\"#white-silver\" y=\"10.5\" /><use x=\"140.5\" xlink:href=\"#white-pawn\" y=\"50.5\" /><use x=\"140.5\" xlink:href=\"#black-pawn\" y=\"130.5\" /><use x=\"140.5\" xlink:href=\"#black-silver\" y=\"170.5\" /><use x=\"120.5\" xlink:href=\"#white-gold\" y=\"10.5\" /><use x=\"120.5\" xlink:href=\"#white-pawn\" y=\"50.5\" /><use x=\"120.5\" xlink:href=\"#black-pawn\" y=\"130.5\" /><use x=\"120.5\" xlink:href=\"#black-gold\" y=\"170.5\" /><use x=\"100.5\" xlink:href=\"#white-king\" y=\"10.5\" /><use x=\"100.5\" xlink:href=\"#white-pawn\" y=\"50.5\" /><use x=\"100.5\" xlink:href=\"#black-pawn\" y=\"130.5\" /><use x=\"100.5\" xlink:href=\"#black-king\" y=\"170.5\" /><use x=\"80.5\" xlink:href=\"#white-gold\" y=\"10.5\" /><use x=\"80.5\" xlink:href=\"#white-pawn\" y=\"50.5\" /><use x=\"80.5\" xlink:href=\"#black-pawn\" y=\"130.5\" /><use x=\"80.5\" xlink:href=\"#black-gold\" y=\"170.5\" /><use x=\"60.5\" xlink:href=\"#white-silver\" y=\"10.5\" /><use x=\"60.5\" xlink:href=\"#white-pawn\" y=\"50.5\" /><use x=\"60.5\" xlink:href=\"#black-pawn\" y=\"130.5\" /><use x=\"60.5\" xlink:href=\"#black-silver\" y=\"170.5\" /><use x=\"40.5\" xlink:href=\"#white-knight\" y=\"10.5\" /><use x=\"40.5\" xlink:href=\"#white-rook\" y=\"30.5\" /><use x=\"40.5\" xlink:href=\"#white-pawn\" y=\"50.5\" /><use x=\"40.5\" xlink:href=\"#black-pawn\" y=\"130.5\" /><use x=\"40.5\" xlink:href=\"#black-bishop\" y=\"150.5\" /><use x=\"40.5\" xlink:href=\"#black-knight\" y=\"170.5\" /><use x=\"20.5\" xlink:href=\"#white-lance\" y=\"10.5\" /><use x=\"20.5\" xlink:href=\"#white-pawn\" y=\"50.5\" /><use x=\"20.5\" xlink:href=\"#black-pawn\" y=\"130.5\" /><use x=\"20.5\" xlink:href=\"#black-lance\" y=\"170.5\" /><text font-family=\"serif\" font-size=\"14\" x=\"214\" y=\"176\">&#25163;</text><text font-family=\"serif\" font-size=\"14\" x=\"214\" y=\"162\">&#20808;</text><text font-family=\"serif\" font-size=\"14\" x=\"214\" y=\"148\">&#9751;</text><text font-family=\"serif\" font-size=\"14\" transform=\"rotate(180)\" x=\"-16\" y=\"-24\">&#25163;</text><text font-family=\"serif\" font-size=\"14\" transform=\"rotate(180)\" x=\"-16\" y=\"-38\">&#24460;</text><text font-family=\"serif\" font-size=\"14\" transform=\"rotate(180)\" x=\"-16\" y=\"-52\">&#9750;</text></svg>"
          },
          "metadata": {},
          "execution_count": 10
        }
      ]
    },
    {
      "cell_type": "code",
      "source": [
        "# USIプロトコルの文字列を直接使う\n",
        "move = board.push_usi('7g7f')\n",
        "print(move)\n",
        "board"
      ],
      "metadata": {
        "colab": {
          "base_uri": "https://localhost:8080/",
          "height": 230
        },
        "id": "Jsn3LMY4mLKz",
        "outputId": "9f5a2b5e-c300-4ce6-f6ba-aeb019a61b21"
      },
      "execution_count": 11,
      "outputs": [
        {
          "output_type": "stream",
          "name": "stdout",
          "text": [
            "73275\n"
          ]
        },
        {
          "output_type": "execute_result",
          "data": {
            "text/plain": [
              "'  9  8  7  6  5  4  3  2  1\n",
              "P1-KY-KE-GI-KI-OU-KI-GI-KE-KY\n",
              "P2 * -HI *  *  *  *  * -KA * \n",
              "P3-FU-FU-FU-FU-FU-FU-FU-FU-FU\n",
              "P4 *  *  *  *  *  *  *  *  * \n",
              "P5 *  *  *  *  *  *  *  *  * \n",
              "P6 *  * +FU *  *  *  *  *  * \n",
              "P7+FU+FU * +FU+FU+FU+FU+FU+FU\n",
              "P8 * +KA *  *  *  *  * +HI * \n",
              "P9+KY+KE+GI+KI+OU+KI+GI+KE+KY\n",
              "-"
            ],
            "image/svg+xml": "<svg height=\"192.0\" version=\"1.1\" viewBox=\"0 0 230 192\" width=\"230.0\" xmlns=\"http://www.w3.org/2000/svg\" xmlns:xlink=\"http://www.w3.org/1999/xlink\"><defs><g id=\"black-pawn\"><text font-family=\"serif\" font-size=\"17\" text-anchor=\"middle\" x=\"10.5\" y=\"16.5\">&#27497;</text></g><g id=\"black-lance\"><text font-family=\"serif\" font-size=\"17\" text-anchor=\"middle\" x=\"10.5\" y=\"16.5\">&#39321;</text></g><g id=\"black-knight\"><text font-family=\"serif\" font-size=\"17\" text-anchor=\"middle\" x=\"10.5\" y=\"16.5\">&#26690;</text></g><g id=\"black-silver\"><text font-family=\"serif\" font-size=\"17\" text-anchor=\"middle\" x=\"10.5\" y=\"16.5\">&#37504;</text></g><g id=\"black-gold\"><text font-family=\"serif\" font-size=\"17\" text-anchor=\"middle\" x=\"10.5\" y=\"16.5\">&#37329;</text></g><g id=\"black-bishop\"><text font-family=\"serif\" font-size=\"17\" text-anchor=\"middle\" x=\"10.5\" y=\"16.5\">&#35282;</text></g><g id=\"black-rook\"><text font-family=\"serif\" font-size=\"17\" text-anchor=\"middle\" x=\"10.5\" y=\"16.5\">&#39131;</text></g><g id=\"black-king\"><text font-family=\"serif\" font-size=\"17\" text-anchor=\"middle\" x=\"10.5\" y=\"16.5\">&#29579;</text></g><g id=\"black-pro-pawn\"><text font-family=\"serif\" font-size=\"17\" text-anchor=\"middle\" x=\"10.5\" y=\"16.5\">&#12392;</text></g><g id=\"black-pro-lance\" transform=\"scale(1.0, 0.5)\"><text font-family=\"serif\" font-size=\"17\" text-anchor=\"middle\" x=\"10.5\" y=\"18\">&#25104;</text><text font-family=\"serif\" font-size=\"17\" text-anchor=\"middle\" x=\"10.5\" y=\"34\">&#39321;</text></g><g id=\"black-pro-knight\" transform=\"scale(1.0, 0.5)\"><text font-family=\"serif\" font-size=\"17\" text-anchor=\"middle\" x=\"10.5\" y=\"18\">&#25104;</text><text font-family=\"serif\" font-size=\"17\" text-anchor=\"middle\" x=\"10.5\" y=\"34\">&#26690;</text></g><g id=\"black-pro-silver\" transform=\"scale(1.0, 0.5)\"><text font-family=\"serif\" font-size=\"17\" text-anchor=\"middle\" x=\"10.5\" y=\"18\">&#25104;</text><text font-family=\"serif\" font-size=\"17\" text-anchor=\"middle\" x=\"10.5\" y=\"34\">&#37504;</text></g><g id=\"black-horse\"><text font-family=\"serif\" font-size=\"17\" text-anchor=\"middle\" x=\"10.5\" y=\"16.5\">&#39340;</text></g><g id=\"black-dragon\"><text font-family=\"serif\" font-size=\"17\" text-anchor=\"middle\" x=\"10.5\" y=\"16.5\">&#40845;</text></g><g id=\"white-pawn\" transform=\"rotate(180)\"><text font-family=\"serif\" font-size=\"17\" text-anchor=\"middle\" x=\"-10.5\" y=\"-3.5\">&#27497;</text></g><g id=\"white-lance\" transform=\"rotate(180)\"><text font-family=\"serif\" font-size=\"17\" text-anchor=\"middle\" x=\"-10.5\" y=\"-3.5\">&#39321;</text></g><g id=\"white-knight\" transform=\"rotate(180)\"><text font-family=\"serif\" font-size=\"17\" text-anchor=\"middle\" x=\"-10.5\" y=\"-3.5\">&#26690;</text></g><g id=\"white-silver\" transform=\"rotate(180)\"><text font-family=\"serif\" font-size=\"17\" text-anchor=\"middle\" x=\"-10.5\" y=\"-3.5\">&#37504;</text></g><g id=\"white-gold\" transform=\"rotate(180)\"><text font-family=\"serif\" font-size=\"17\" text-anchor=\"middle\" x=\"-10.5\" y=\"-3.5\">&#37329;</text></g><g id=\"white-bishop\" transform=\"rotate(180)\"><text font-family=\"serif\" font-size=\"17\" text-anchor=\"middle\" x=\"-10.5\" y=\"-3.5\">&#35282;</text></g><g id=\"white-rook\" transform=\"rotate(180)\"><text font-family=\"serif\" font-size=\"17\" text-anchor=\"middle\" x=\"-10.5\" y=\"-3.5\">&#39131;</text></g><g id=\"white-king\" transform=\"rotate(180)\"><text font-family=\"serif\" font-size=\"17\" text-anchor=\"middle\" x=\"-10.5\" y=\"-3.5\">&#29579;</text></g><g id=\"white-pro-pawn\" transform=\"rotate(180)\"><text font-family=\"serif\" font-size=\"17\" text-anchor=\"middle\" x=\"-10.5\" y=\"-3.5\">&#12392;</text></g><g id=\"white-pro-lance\" transform=\"scale(1.0, 0.5) rotate(180)\"><text font-family=\"serif\" font-size=\"17\" text-anchor=\"middle\" x=\"-10.5\" y=\"-22\">&#25104;</text><text font-family=\"serif\" font-size=\"17\" text-anchor=\"middle\" x=\"-10.5\" y=\"-6\">&#39321;</text></g><g id=\"white-pro-knight\" transform=\"scale(1.0, 0.5) rotate(180)\"><text font-family=\"serif\" font-size=\"17\" text-anchor=\"middle\" x=\"-10.5\" y=\"-22\">&#25104;</text><text font-family=\"serif\" font-size=\"17\" text-anchor=\"middle\" x=\"-10.5\" y=\"-6\">&#26690;</text></g><g id=\"white-pro-silver\" transform=\"scale(1.0, 0.5) rotate(180)\"><text font-family=\"serif\" font-size=\"17\" text-anchor=\"middle\" x=\"-10.5\" y=\"-22\">&#25104;</text><text font-family=\"serif\" font-size=\"17\" text-anchor=\"middle\" x=\"-10.5\" y=\"-6\">&#37504;</text></g><g id=\"white-horse\" transform=\"rotate(180)\"><text font-family=\"serif\" font-size=\"17\" text-anchor=\"middle\" x=\"-10.5\" y=\"-3.5\">&#39340;</text></g><g id=\"white-dragon\" transform=\"rotate(180)\"><text font-family=\"serif\" font-size=\"17\" text-anchor=\"middle\" x=\"-10.5\" y=\"-3.5\">&#40845;</text></g></defs><rect fill=\"#f6b94d\" height=\"20\" width=\"20\" x=\"60.5\" y=\"110.5\" /><rect fill=\"#fdf0e3\" height=\"20\" width=\"20\" x=\"60.5\" y=\"130.5\" /><g stroke=\"black\"><rect fill=\"none\" height=\"181\" stroke-width=\"1.5\" width=\"181\" x=\"20\" y=\"10\" /><line stroke-width=\"1.0\" x1=\"20.5\" x2=\"200.5\" y1=\"30.5\" y2=\"30.5\" /><line stroke-width=\"1.0\" x1=\"20.5\" x2=\"200.5\" y1=\"50.5\" y2=\"50.5\" /><line stroke-width=\"1.0\" x1=\"20.5\" x2=\"200.5\" y1=\"70.5\" y2=\"70.5\" /><line stroke-width=\"1.0\" x1=\"20.5\" x2=\"200.5\" y1=\"90.5\" y2=\"90.5\" /><line stroke-width=\"1.0\" x1=\"20.5\" x2=\"200.5\" y1=\"110.5\" y2=\"110.5\" /><line stroke-width=\"1.0\" x1=\"20.5\" x2=\"200.5\" y1=\"130.5\" y2=\"130.5\" /><line stroke-width=\"1.0\" x1=\"20.5\" x2=\"200.5\" y1=\"150.5\" y2=\"150.5\" /><line stroke-width=\"1.0\" x1=\"20.5\" x2=\"200.5\" y1=\"170.5\" y2=\"170.5\" /><line stroke-width=\"1.0\" x1=\"40.5\" x2=\"40.5\" y1=\"10.5\" y2=\"190.5\" /><line stroke-width=\"1.0\" x1=\"60.5\" x2=\"60.5\" y1=\"10.5\" y2=\"190.5\" /><line stroke-width=\"1.0\" x1=\"80.5\" x2=\"80.5\" y1=\"10.5\" y2=\"190.5\" /><line stroke-width=\"1.0\" x1=\"100.5\" x2=\"100.5\" y1=\"10.5\" y2=\"190.5\" /><line stroke-width=\"1.0\" x1=\"120.5\" x2=\"120.5\" y1=\"10.5\" y2=\"190.5\" /><line stroke-width=\"1.0\" x1=\"140.5\" x2=\"140.5\" y1=\"10.5\" y2=\"190.5\" /><line stroke-width=\"1.0\" x1=\"160.5\" x2=\"160.5\" y1=\"10.5\" y2=\"190.5\" /><line stroke-width=\"1.0\" x1=\"180.5\" x2=\"180.5\" y1=\"10.5\" y2=\"190.5\" /></g><g><text font-family=\"serif\" font-size=\"9\" text-anchor=\"middle\" x=\"30.5\" y=\"8\">9</text><text font-family=\"serif\" font-size=\"9\" text-anchor=\"middle\" x=\"50.5\" y=\"8\">8</text><text font-family=\"serif\" font-size=\"9\" text-anchor=\"middle\" x=\"70.5\" y=\"8\">7</text><text font-family=\"serif\" font-size=\"9\" text-anchor=\"middle\" x=\"90.5\" y=\"8\">6</text><text font-family=\"serif\" font-size=\"9\" text-anchor=\"middle\" x=\"110.5\" y=\"8\">5</text><text font-family=\"serif\" font-size=\"9\" text-anchor=\"middle\" x=\"130.5\" y=\"8\">4</text><text font-family=\"serif\" font-size=\"9\" text-anchor=\"middle\" x=\"150.5\" y=\"8\">3</text><text font-family=\"serif\" font-size=\"9\" text-anchor=\"middle\" x=\"170.5\" y=\"8\">2</text><text font-family=\"serif\" font-size=\"9\" text-anchor=\"middle\" x=\"190.5\" y=\"8\">1</text><text font-family=\"serif\" font-size=\"9\" x=\"203.5\" y=\"23\">&#19968;</text><text font-family=\"serif\" font-size=\"9\" x=\"203.5\" y=\"43\">&#20108;</text><text font-family=\"serif\" font-size=\"9\" x=\"203.5\" y=\"63\">&#19977;</text><text font-family=\"serif\" font-size=\"9\" x=\"203.5\" y=\"83\">&#22235;</text><text font-family=\"serif\" font-size=\"9\" x=\"203.5\" y=\"103\">&#20116;</text><text font-family=\"serif\" font-size=\"9\" x=\"203.5\" y=\"123\">&#20845;</text><text font-family=\"serif\" font-size=\"9\" x=\"203.5\" y=\"143\">&#19971;</text><text font-family=\"serif\" font-size=\"9\" x=\"203.5\" y=\"163\">&#20843;</text><text font-family=\"serif\" font-size=\"9\" x=\"203.5\" y=\"183\">&#20061;</text></g><use x=\"180.5\" xlink:href=\"#white-lance\" y=\"10.5\" /><use x=\"180.5\" xlink:href=\"#white-pawn\" y=\"50.5\" /><use x=\"180.5\" xlink:href=\"#black-pawn\" y=\"130.5\" /><use x=\"180.5\" xlink:href=\"#black-lance\" y=\"170.5\" /><use x=\"160.5\" xlink:href=\"#white-knight\" y=\"10.5\" /><use x=\"160.5\" xlink:href=\"#white-bishop\" y=\"30.5\" /><use x=\"160.5\" xlink:href=\"#white-pawn\" y=\"50.5\" /><use x=\"160.5\" xlink:href=\"#black-pawn\" y=\"130.5\" /><use x=\"160.5\" xlink:href=\"#black-rook\" y=\"150.5\" /><use x=\"160.5\" xlink:href=\"#black-knight\" y=\"170.5\" /><use x=\"140.5\" xlink:href=\"#white-silver\" y=\"10.5\" /><use x=\"140.5\" xlink:href=\"#white-pawn\" y=\"50.5\" /><use x=\"140.5\" xlink:href=\"#black-pawn\" y=\"130.5\" /><use x=\"140.5\" xlink:href=\"#black-silver\" y=\"170.5\" /><use x=\"120.5\" xlink:href=\"#white-gold\" y=\"10.5\" /><use x=\"120.5\" xlink:href=\"#white-pawn\" y=\"50.5\" /><use x=\"120.5\" xlink:href=\"#black-pawn\" y=\"130.5\" /><use x=\"120.5\" xlink:href=\"#black-gold\" y=\"170.5\" /><use x=\"100.5\" xlink:href=\"#white-king\" y=\"10.5\" /><use x=\"100.5\" xlink:href=\"#white-pawn\" y=\"50.5\" /><use x=\"100.5\" xlink:href=\"#black-pawn\" y=\"130.5\" /><use x=\"100.5\" xlink:href=\"#black-king\" y=\"170.5\" /><use x=\"80.5\" xlink:href=\"#white-gold\" y=\"10.5\" /><use x=\"80.5\" xlink:href=\"#white-pawn\" y=\"50.5\" /><use x=\"80.5\" xlink:href=\"#black-pawn\" y=\"130.5\" /><use x=\"80.5\" xlink:href=\"#black-gold\" y=\"170.5\" /><use x=\"60.5\" xlink:href=\"#white-silver\" y=\"10.5\" /><use x=\"60.5\" xlink:href=\"#white-pawn\" y=\"50.5\" /><use x=\"60.5\" xlink:href=\"#black-pawn\" y=\"110.5\" /><use x=\"60.5\" xlink:href=\"#black-silver\" y=\"170.5\" /><use x=\"40.5\" xlink:href=\"#white-knight\" y=\"10.5\" /><use x=\"40.5\" xlink:href=\"#white-rook\" y=\"30.5\" /><use x=\"40.5\" xlink:href=\"#white-pawn\" y=\"50.5\" /><use x=\"40.5\" xlink:href=\"#black-pawn\" y=\"130.5\" /><use x=\"40.5\" xlink:href=\"#black-bishop\" y=\"150.5\" /><use x=\"40.5\" xlink:href=\"#black-knight\" y=\"170.5\" /><use x=\"20.5\" xlink:href=\"#white-lance\" y=\"10.5\" /><use x=\"20.5\" xlink:href=\"#white-pawn\" y=\"50.5\" /><use x=\"20.5\" xlink:href=\"#black-pawn\" y=\"130.5\" /><use x=\"20.5\" xlink:href=\"#black-lance\" y=\"170.5\" /><text font-family=\"serif\" font-size=\"14\" x=\"214\" y=\"176\">&#25163;</text><text font-family=\"serif\" font-size=\"14\" x=\"214\" y=\"162\">&#20808;</text><text font-family=\"serif\" font-size=\"14\" x=\"214\" y=\"148\">&#9751;</text><text font-family=\"serif\" font-size=\"14\" transform=\"rotate(180)\" x=\"-16\" y=\"-24\">&#25163;</text><text font-family=\"serif\" font-size=\"14\" transform=\"rotate(180)\" x=\"-16\" y=\"-38\">&#24460;</text><text font-family=\"serif\" font-size=\"14\" transform=\"rotate(180)\" x=\"-16\" y=\"-52\">&#9750;</text></svg>"
          },
          "metadata": {},
          "execution_count": 11
        }
      ]
    },
    {
      "cell_type": "code",
      "source": [
        "#手を戻す\n",
        "board.pop()\n",
        "board"
      ],
      "metadata": {
        "colab": {
          "base_uri": "https://localhost:8080/",
          "height": 212
        },
        "id": "E4xzdzqpmStq",
        "outputId": "d2997f8b-6c72-4a42-c939-5e0f066294e8"
      },
      "execution_count": 12,
      "outputs": [
        {
          "output_type": "execute_result",
          "data": {
            "text/plain": [
              "'  9  8  7  6  5  4  3  2  1\n",
              "P1-KY-KE-GI-KI-OU-KI-GI-KE-KY\n",
              "P2 * -HI *  *  *  *  * -KA * \n",
              "P3-FU-FU-FU-FU-FU-FU-FU-FU-FU\n",
              "P4 *  *  *  *  *  *  *  *  * \n",
              "P5 *  *  *  *  *  *  *  *  * \n",
              "P6 *  *  *  *  *  *  *  *  * \n",
              "P7+FU+FU+FU+FU+FU+FU+FU+FU+FU\n",
              "P8 * +KA *  *  *  *  * +HI * \n",
              "P9+KY+KE+GI+KI+OU+KI+GI+KE+KY\n",
              "+"
            ],
            "image/svg+xml": "<svg height=\"192.0\" version=\"1.1\" viewBox=\"0 0 230 192\" width=\"230.0\" xmlns=\"http://www.w3.org/2000/svg\" xmlns:xlink=\"http://www.w3.org/1999/xlink\"><defs><g id=\"black-pawn\"><text font-family=\"serif\" font-size=\"17\" text-anchor=\"middle\" x=\"10.5\" y=\"16.5\">&#27497;</text></g><g id=\"black-lance\"><text font-family=\"serif\" font-size=\"17\" text-anchor=\"middle\" x=\"10.5\" y=\"16.5\">&#39321;</text></g><g id=\"black-knight\"><text font-family=\"serif\" font-size=\"17\" text-anchor=\"middle\" x=\"10.5\" y=\"16.5\">&#26690;</text></g><g id=\"black-silver\"><text font-family=\"serif\" font-size=\"17\" text-anchor=\"middle\" x=\"10.5\" y=\"16.5\">&#37504;</text></g><g id=\"black-gold\"><text font-family=\"serif\" font-size=\"17\" text-anchor=\"middle\" x=\"10.5\" y=\"16.5\">&#37329;</text></g><g id=\"black-bishop\"><text font-family=\"serif\" font-size=\"17\" text-anchor=\"middle\" x=\"10.5\" y=\"16.5\">&#35282;</text></g><g id=\"black-rook\"><text font-family=\"serif\" font-size=\"17\" text-anchor=\"middle\" x=\"10.5\" y=\"16.5\">&#39131;</text></g><g id=\"black-king\"><text font-family=\"serif\" font-size=\"17\" text-anchor=\"middle\" x=\"10.5\" y=\"16.5\">&#29579;</text></g><g id=\"black-pro-pawn\"><text font-family=\"serif\" font-size=\"17\" text-anchor=\"middle\" x=\"10.5\" y=\"16.5\">&#12392;</text></g><g id=\"black-pro-lance\" transform=\"scale(1.0, 0.5)\"><text font-family=\"serif\" font-size=\"17\" text-anchor=\"middle\" x=\"10.5\" y=\"18\">&#25104;</text><text font-family=\"serif\" font-size=\"17\" text-anchor=\"middle\" x=\"10.5\" y=\"34\">&#39321;</text></g><g id=\"black-pro-knight\" transform=\"scale(1.0, 0.5)\"><text font-family=\"serif\" font-size=\"17\" text-anchor=\"middle\" x=\"10.5\" y=\"18\">&#25104;</text><text font-family=\"serif\" font-size=\"17\" text-anchor=\"middle\" x=\"10.5\" y=\"34\">&#26690;</text></g><g id=\"black-pro-silver\" transform=\"scale(1.0, 0.5)\"><text font-family=\"serif\" font-size=\"17\" text-anchor=\"middle\" x=\"10.5\" y=\"18\">&#25104;</text><text font-family=\"serif\" font-size=\"17\" text-anchor=\"middle\" x=\"10.5\" y=\"34\">&#37504;</text></g><g id=\"black-horse\"><text font-family=\"serif\" font-size=\"17\" text-anchor=\"middle\" x=\"10.5\" y=\"16.5\">&#39340;</text></g><g id=\"black-dragon\"><text font-family=\"serif\" font-size=\"17\" text-anchor=\"middle\" x=\"10.5\" y=\"16.5\">&#40845;</text></g><g id=\"white-pawn\" transform=\"rotate(180)\"><text font-family=\"serif\" font-size=\"17\" text-anchor=\"middle\" x=\"-10.5\" y=\"-3.5\">&#27497;</text></g><g id=\"white-lance\" transform=\"rotate(180)\"><text font-family=\"serif\" font-size=\"17\" text-anchor=\"middle\" x=\"-10.5\" y=\"-3.5\">&#39321;</text></g><g id=\"white-knight\" transform=\"rotate(180)\"><text font-family=\"serif\" font-size=\"17\" text-anchor=\"middle\" x=\"-10.5\" y=\"-3.5\">&#26690;</text></g><g id=\"white-silver\" transform=\"rotate(180)\"><text font-family=\"serif\" font-size=\"17\" text-anchor=\"middle\" x=\"-10.5\" y=\"-3.5\">&#37504;</text></g><g id=\"white-gold\" transform=\"rotate(180)\"><text font-family=\"serif\" font-size=\"17\" text-anchor=\"middle\" x=\"-10.5\" y=\"-3.5\">&#37329;</text></g><g id=\"white-bishop\" transform=\"rotate(180)\"><text font-family=\"serif\" font-size=\"17\" text-anchor=\"middle\" x=\"-10.5\" y=\"-3.5\">&#35282;</text></g><g id=\"white-rook\" transform=\"rotate(180)\"><text font-family=\"serif\" font-size=\"17\" text-anchor=\"middle\" x=\"-10.5\" y=\"-3.5\">&#39131;</text></g><g id=\"white-king\" transform=\"rotate(180)\"><text font-family=\"serif\" font-size=\"17\" text-anchor=\"middle\" x=\"-10.5\" y=\"-3.5\">&#29579;</text></g><g id=\"white-pro-pawn\" transform=\"rotate(180)\"><text font-family=\"serif\" font-size=\"17\" text-anchor=\"middle\" x=\"-10.5\" y=\"-3.5\">&#12392;</text></g><g id=\"white-pro-lance\" transform=\"scale(1.0, 0.5) rotate(180)\"><text font-family=\"serif\" font-size=\"17\" text-anchor=\"middle\" x=\"-10.5\" y=\"-22\">&#25104;</text><text font-family=\"serif\" font-size=\"17\" text-anchor=\"middle\" x=\"-10.5\" y=\"-6\">&#39321;</text></g><g id=\"white-pro-knight\" transform=\"scale(1.0, 0.5) rotate(180)\"><text font-family=\"serif\" font-size=\"17\" text-anchor=\"middle\" x=\"-10.5\" y=\"-22\">&#25104;</text><text font-family=\"serif\" font-size=\"17\" text-anchor=\"middle\" x=\"-10.5\" y=\"-6\">&#26690;</text></g><g id=\"white-pro-silver\" transform=\"scale(1.0, 0.5) rotate(180)\"><text font-family=\"serif\" font-size=\"17\" text-anchor=\"middle\" x=\"-10.5\" y=\"-22\">&#25104;</text><text font-family=\"serif\" font-size=\"17\" text-anchor=\"middle\" x=\"-10.5\" y=\"-6\">&#37504;</text></g><g id=\"white-horse\" transform=\"rotate(180)\"><text font-family=\"serif\" font-size=\"17\" text-anchor=\"middle\" x=\"-10.5\" y=\"-3.5\">&#39340;</text></g><g id=\"white-dragon\" transform=\"rotate(180)\"><text font-family=\"serif\" font-size=\"17\" text-anchor=\"middle\" x=\"-10.5\" y=\"-3.5\">&#40845;</text></g></defs><g stroke=\"black\"><rect fill=\"none\" height=\"181\" stroke-width=\"1.5\" width=\"181\" x=\"20\" y=\"10\" /><line stroke-width=\"1.0\" x1=\"20.5\" x2=\"200.5\" y1=\"30.5\" y2=\"30.5\" /><line stroke-width=\"1.0\" x1=\"20.5\" x2=\"200.5\" y1=\"50.5\" y2=\"50.5\" /><line stroke-width=\"1.0\" x1=\"20.5\" x2=\"200.5\" y1=\"70.5\" y2=\"70.5\" /><line stroke-width=\"1.0\" x1=\"20.5\" x2=\"200.5\" y1=\"90.5\" y2=\"90.5\" /><line stroke-width=\"1.0\" x1=\"20.5\" x2=\"200.5\" y1=\"110.5\" y2=\"110.5\" /><line stroke-width=\"1.0\" x1=\"20.5\" x2=\"200.5\" y1=\"130.5\" y2=\"130.5\" /><line stroke-width=\"1.0\" x1=\"20.5\" x2=\"200.5\" y1=\"150.5\" y2=\"150.5\" /><line stroke-width=\"1.0\" x1=\"20.5\" x2=\"200.5\" y1=\"170.5\" y2=\"170.5\" /><line stroke-width=\"1.0\" x1=\"40.5\" x2=\"40.5\" y1=\"10.5\" y2=\"190.5\" /><line stroke-width=\"1.0\" x1=\"60.5\" x2=\"60.5\" y1=\"10.5\" y2=\"190.5\" /><line stroke-width=\"1.0\" x1=\"80.5\" x2=\"80.5\" y1=\"10.5\" y2=\"190.5\" /><line stroke-width=\"1.0\" x1=\"100.5\" x2=\"100.5\" y1=\"10.5\" y2=\"190.5\" /><line stroke-width=\"1.0\" x1=\"120.5\" x2=\"120.5\" y1=\"10.5\" y2=\"190.5\" /><line stroke-width=\"1.0\" x1=\"140.5\" x2=\"140.5\" y1=\"10.5\" y2=\"190.5\" /><line stroke-width=\"1.0\" x1=\"160.5\" x2=\"160.5\" y1=\"10.5\" y2=\"190.5\" /><line stroke-width=\"1.0\" x1=\"180.5\" x2=\"180.5\" y1=\"10.5\" y2=\"190.5\" /></g><g><text font-family=\"serif\" font-size=\"9\" text-anchor=\"middle\" x=\"30.5\" y=\"8\">9</text><text font-family=\"serif\" font-size=\"9\" text-anchor=\"middle\" x=\"50.5\" y=\"8\">8</text><text font-family=\"serif\" font-size=\"9\" text-anchor=\"middle\" x=\"70.5\" y=\"8\">7</text><text font-family=\"serif\" font-size=\"9\" text-anchor=\"middle\" x=\"90.5\" y=\"8\">6</text><text font-family=\"serif\" font-size=\"9\" text-anchor=\"middle\" x=\"110.5\" y=\"8\">5</text><text font-family=\"serif\" font-size=\"9\" text-anchor=\"middle\" x=\"130.5\" y=\"8\">4</text><text font-family=\"serif\" font-size=\"9\" text-anchor=\"middle\" x=\"150.5\" y=\"8\">3</text><text font-family=\"serif\" font-size=\"9\" text-anchor=\"middle\" x=\"170.5\" y=\"8\">2</text><text font-family=\"serif\" font-size=\"9\" text-anchor=\"middle\" x=\"190.5\" y=\"8\">1</text><text font-family=\"serif\" font-size=\"9\" x=\"203.5\" y=\"23\">&#19968;</text><text font-family=\"serif\" font-size=\"9\" x=\"203.5\" y=\"43\">&#20108;</text><text font-family=\"serif\" font-size=\"9\" x=\"203.5\" y=\"63\">&#19977;</text><text font-family=\"serif\" font-size=\"9\" x=\"203.5\" y=\"83\">&#22235;</text><text font-family=\"serif\" font-size=\"9\" x=\"203.5\" y=\"103\">&#20116;</text><text font-family=\"serif\" font-size=\"9\" x=\"203.5\" y=\"123\">&#20845;</text><text font-family=\"serif\" font-size=\"9\" x=\"203.5\" y=\"143\">&#19971;</text><text font-family=\"serif\" font-size=\"9\" x=\"203.5\" y=\"163\">&#20843;</text><text font-family=\"serif\" font-size=\"9\" x=\"203.5\" y=\"183\">&#20061;</text></g><use x=\"180.5\" xlink:href=\"#white-lance\" y=\"10.5\" /><use x=\"180.5\" xlink:href=\"#white-pawn\" y=\"50.5\" /><use x=\"180.5\" xlink:href=\"#black-pawn\" y=\"130.5\" /><use x=\"180.5\" xlink:href=\"#black-lance\" y=\"170.5\" /><use x=\"160.5\" xlink:href=\"#white-knight\" y=\"10.5\" /><use x=\"160.5\" xlink:href=\"#white-bishop\" y=\"30.5\" /><use x=\"160.5\" xlink:href=\"#white-pawn\" y=\"50.5\" /><use x=\"160.5\" xlink:href=\"#black-pawn\" y=\"130.5\" /><use x=\"160.5\" xlink:href=\"#black-rook\" y=\"150.5\" /><use x=\"160.5\" xlink:href=\"#black-knight\" y=\"170.5\" /><use x=\"140.5\" xlink:href=\"#white-silver\" y=\"10.5\" /><use x=\"140.5\" xlink:href=\"#white-pawn\" y=\"50.5\" /><use x=\"140.5\" xlink:href=\"#black-pawn\" y=\"130.5\" /><use x=\"140.5\" xlink:href=\"#black-silver\" y=\"170.5\" /><use x=\"120.5\" xlink:href=\"#white-gold\" y=\"10.5\" /><use x=\"120.5\" xlink:href=\"#white-pawn\" y=\"50.5\" /><use x=\"120.5\" xlink:href=\"#black-pawn\" y=\"130.5\" /><use x=\"120.5\" xlink:href=\"#black-gold\" y=\"170.5\" /><use x=\"100.5\" xlink:href=\"#white-king\" y=\"10.5\" /><use x=\"100.5\" xlink:href=\"#white-pawn\" y=\"50.5\" /><use x=\"100.5\" xlink:href=\"#black-pawn\" y=\"130.5\" /><use x=\"100.5\" xlink:href=\"#black-king\" y=\"170.5\" /><use x=\"80.5\" xlink:href=\"#white-gold\" y=\"10.5\" /><use x=\"80.5\" xlink:href=\"#white-pawn\" y=\"50.5\" /><use x=\"80.5\" xlink:href=\"#black-pawn\" y=\"130.5\" /><use x=\"80.5\" xlink:href=\"#black-gold\" y=\"170.5\" /><use x=\"60.5\" xlink:href=\"#white-silver\" y=\"10.5\" /><use x=\"60.5\" xlink:href=\"#white-pawn\" y=\"50.5\" /><use x=\"60.5\" xlink:href=\"#black-pawn\" y=\"130.5\" /><use x=\"60.5\" xlink:href=\"#black-silver\" y=\"170.5\" /><use x=\"40.5\" xlink:href=\"#white-knight\" y=\"10.5\" /><use x=\"40.5\" xlink:href=\"#white-rook\" y=\"30.5\" /><use x=\"40.5\" xlink:href=\"#white-pawn\" y=\"50.5\" /><use x=\"40.5\" xlink:href=\"#black-pawn\" y=\"130.5\" /><use x=\"40.5\" xlink:href=\"#black-bishop\" y=\"150.5\" /><use x=\"40.5\" xlink:href=\"#black-knight\" y=\"170.5\" /><use x=\"20.5\" xlink:href=\"#white-lance\" y=\"10.5\" /><use x=\"20.5\" xlink:href=\"#white-pawn\" y=\"50.5\" /><use x=\"20.5\" xlink:href=\"#black-pawn\" y=\"130.5\" /><use x=\"20.5\" xlink:href=\"#black-lance\" y=\"170.5\" /><text font-family=\"serif\" font-size=\"14\" x=\"214\" y=\"176\">&#25163;</text><text font-family=\"serif\" font-size=\"14\" x=\"214\" y=\"162\">&#20808;</text><text font-family=\"serif\" font-size=\"14\" x=\"214\" y=\"148\">&#9751;</text><text font-family=\"serif\" font-size=\"14\" transform=\"rotate(180)\" x=\"-16\" y=\"-24\">&#25163;</text><text font-family=\"serif\" font-size=\"14\" transform=\"rotate(180)\" x=\"-16\" y=\"-38\">&#24460;</text><text font-family=\"serif\" font-size=\"14\" transform=\"rotate(180)\" x=\"-16\" y=\"-52\">&#9750;</text></svg>"
          },
          "metadata": {},
          "execution_count": 12
        }
      ]
    },
    {
      "cell_type": "code",
      "source": [
        ""
      ],
      "metadata": {
        "id": "ql3C40tkmYJ-"
      },
      "execution_count": null,
      "outputs": []
    }
  ]
}